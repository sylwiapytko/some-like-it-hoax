{
 "cells": [
  {
   "cell_type": "markdown",
   "metadata": {
    "collapsed": true
   },
   "source": [
    "# Exploratory data analysis for the dataset of the paper\n",
    "\n",
    "Author: Marco Della Vedova - marco.dellavedova@gmail.com"
   ]
  },
  {
   "cell_type": "code",
   "execution_count": 1,
   "metadata": {
    "scrolled": true
   },
   "outputs": [
    {
     "name": "stdout",
     "output_type": "stream",
     "text": [
      "Once deleted, variables cannot be recovered. Proceed (y/[n])? y\n"
     ]
    }
   ],
   "source": [
    "%reset\n",
    "import json\n",
    "from eda_utils import *\n",
    "import numpy as np\n",
    "import matplotlib.pyplot as plt\n",
    "\n",
    "%matplotlib inline"
   ]
  },
  {
   "cell_type": "code",
   "execution_count": 2,
   "metadata": {},
   "outputs": [
    {
     "name": "stdout",
     "output_type": "stream",
     "text": [
      "datadict size: 15727 \n"
     ]
    }
   ],
   "source": [
    "# Loading two json files of the fb02 dataset: \n",
    "# 1) the postid:[userids] dictionary representing likes and \n",
    "# 2) the pageid:hoaxflag dictionary\n",
    "with open('../dataset/retweeters.json') as data_file:\n",
    "    datadict = json.load(data_file)\n",
    "with open('accountClassification.json') as pagedatafile:\n",
    "    hoaxpagedict = json.load(pagedatafile)\n",
    "print(\"datadict size: %d \" % len(datadict))"
   ]
  },
  {
   "cell_type": "code",
   "execution_count": 3,
   "metadata": {},
   "outputs": [],
   "source": [
    "# Print basic statistics about dataset \n",
    "def print_stat(data):\n",
    "    nposts = len(data)\n",
    "    nposts_h = len(list(filter(is_hoax, data)))\n",
    "    \n",
    "    nusers = get_number_of_users(data)\n",
    "    likes_hoax, likes_nhoax = split_likes(data)\n",
    "    hoax_likers = set(likes_hoax)\n",
    "    nonhoax_likers = set(likes_nhoax)\n",
    "    both_likers = nonhoax_likers.intersection(hoax_likers)\n",
    "    nusers_intesection = len(both_likers)\n",
    "    nusers_hoaxonly = len(hoax_likers) - nusers_intesection\n",
    "    nusers_nonhoaxonly = len(nonhoax_likers) - nusers_intesection\n",
    "    \n",
    "    nlikes = get_number_of_likes(data)\n",
    "    \n",
    "    data_post = [len(likes) for _, likes in data.items()]\n",
    "    \n",
    "    from collections import Counter\n",
    "    data_user = list(Counter(likes_hoax+likes_nhoax).values())\n",
    "    \n",
    "    print(\"N. of posts: %d = %d hoax + %d nonhoax\" %\n",
    "          (nposts, nposts_h, nposts-nposts_h))\n",
    "    print(\"N. of users: %d = %d hoax-only + %d nonhoax-only + %d intersect\" % \n",
    "          (nusers, nusers_hoaxonly, nusers_nonhoaxonly, nusers_intesection))\n",
    "    print(\"N. of likes: %d = %d hoax + %d nonhoax\" % \n",
    "          (nlikes, len(likes_hoax), len(likes_nhoax)))\n",
    "    print(\"Likes per post: avg. %.1f, median %d, max %d\" %\n",
    "          (np.average(data_post), np.median(data_post), np.max(data_post)))\n",
    "    print(\"Likes per user: avg. %.1f, median %d, max %d\" %\n",
    "          (np.average(data_user), np.median(data_user), np.max(data_user)))"
   ]
  },
  {
   "cell_type": "code",
   "execution_count": 4,
   "metadata": {},
   "outputs": [
    {
     "name": "stdout",
     "output_type": "stream",
     "text": [
      "Pages: 9 hoax vs. 14 non-hoax\n",
      "Pages used: 23\n"
     ]
    }
   ],
   "source": [
    "# Get hoax pages and non-hoax pages lists from the hoaxpages dict for convenience \n",
    "pages_hoax = [pageid for pageid in hoaxpagedict.keys() if hoaxpagedict[pageid]]\n",
    "pages_nonhoax = [pageid for pageid in hoaxpagedict.keys() if not hoaxpagedict[pageid]]\n",
    "print(\"Pages: %d hoax vs. %d non-hoax\" % (len(pages_hoax), len(pages_nonhoax)))\n",
    "print(\"Pages used: %d\" % len(set([i.split('_')[0] for i in datadict.keys()])))\n",
    "\n",
    "# Check integrity\n",
    "# len(set([i.split('_')[0] for i in datadict.keys()])) == (len(pages_nonhoax) + len(pages_hoax))"
   ]
  },
  {
   "cell_type": "code",
   "execution_count": 5,
   "metadata": {},
   "outputs": [
    {
     "name": "stdout",
     "output_type": "stream",
     "text": [
      "N. of posts: 15727 = 5698 hoax + 10029 nonhoax\n",
      "N. of users: 11496 = 2050 hoax-only + 7279 nonhoax-only + 2167 intersect\n",
      "N. of likes: 98782 = 42064 hoax + 56718 nonhoax\n",
      "Likes per post: avg. 6.3, median 3, max 50\n",
      "Likes per user: avg. 8.6, median 2, max 1998\n"
     ]
    }
   ],
   "source": [
    "# Statistics for all the dataset\n",
    "print_stat(datadict)"
   ]
  },
  {
   "cell_type": "code",
   "execution_count": 6,
   "metadata": {},
   "outputs": [
    {
     "name": "stdout",
     "output_type": "stream",
     "text": [
      "N. of posts: 15649 = 5685 hoax + 9964 nonhoax\n",
      "N. of users: 11496 = 2050 hoax-only + 7279 nonhoax-only + 2167 intersect\n",
      "N. of likes: 98782 = 42064 hoax + 56718 nonhoax\n",
      "Likes per post: avg. 6.3, median 3, max 50\n",
      "Likes per user: avg. 8.6, median 2, max 1998\n"
     ]
    }
   ],
   "source": [
    "datafp = filter_post(datadict, 1)\n",
    "print_stat(datafp)"
   ]
  },
  {
   "cell_type": "code",
   "execution_count": 7,
   "metadata": {},
   "outputs": [
    {
     "name": "stdout",
     "output_type": "stream",
     "text": [
      "N. of posts: 15727 = 5698 hoax + 10029 nonhoax\n",
      "N. of users: 11496 = 2050 hoax-only + 7279 nonhoax-only + 2167 intersect\n",
      "N. of likes: 98782 = 42064 hoax + 56718 nonhoax\n",
      "Likes per post: avg. 6.3, median 3, max 50\n",
      "Likes per user: avg. 8.6, median 2, max 1998\n"
     ]
    }
   ],
   "source": [
    "datafu = filter_user(datadict, 1)\n",
    "print_stat(datafu)"
   ]
  },
  {
   "cell_type": "code",
   "execution_count": 8,
   "metadata": {},
   "outputs": [],
   "source": [
    "# Count user likes split into hoax-likes and nonhoax-likes\n",
    "def likes_per_user_split_count(data, f=lambda x: True):\n",
    "    from collections import Counter\n",
    "    # f = lambda x: x in both_likers\n",
    "    # u = both_likers\n",
    "    # f = lambda x: True\n",
    "    u = list(filter(f, get_user_set(data)))\n",
    "    likes_hoax, likes_nhoax = split_likes(data)\n",
    "    likes_hoax_counter = Counter(filter(f, likes_hoax))\n",
    "    likes_nhoax_counter = Counter(filter(f, likes_nhoax))\n",
    "    userlikes_split = np.zeros([len(u), 2])\n",
    "    for i, userid in enumerate(u):\n",
    "        userlikes_split[i, 0] = likes_hoax_counter[userid]\n",
    "        userlikes_split[i, 1] = likes_nhoax_counter[userid]\n",
    "    return userlikes_split\n",
    "# userlikes_split = splitlikes(datafu)\n",
    "# userlikes_split"
   ]
  },
  {
   "cell_type": "code",
   "execution_count": 9,
   "metadata": {},
   "outputs": [
    {
     "data": {
      "text/plain": [
       "2167"
      ]
     },
     "execution_count": 9,
     "metadata": {},
     "output_type": "execute_result"
    }
   ],
   "source": [
    "likes_hoax, likes_nhoax = split_likes(datadict)\n",
    "hoax_likers = set(likes_hoax)\n",
    "nonhoax_likers = set(likes_nhoax)\n",
    "both_likers = nonhoax_likers.intersection(hoax_likers)\n",
    "len(both_likers)"
   ]
  },
  {
   "cell_type": "code",
   "execution_count": 10,
   "metadata": {},
   "outputs": [],
   "source": [
    "# Matplotlib configuration for better view in latex\n",
    "plt.rc('text', usetex=True)\n",
    "plt.rc('font', family='serif')\n",
    "plt.rc('figure', figsize='4, 3')"
   ]
  },
  {
   "cell_type": "code",
   "execution_count": 11,
   "metadata": {},
   "outputs": [],
   "source": [
    "from matplotlib import rc\n",
    "rc('font',**{'family':'sans-serif','sans-serif':['Helvetica']})\n",
    "## for Palatino and other serif fonts use:\n",
    "#rc('font',**{'family':'serif','serif':['Palatino']})\n",
    "rc('text', usetex=True)"
   ]
  },
  {
   "cell_type": "code",
   "execution_count": 12,
   "metadata": {
    "scrolled": true
   },
   "outputs": [
    {
     "name": "stderr",
     "output_type": "stream",
     "text": [
      "findfont: Font family ['sans-serif'] not found. Falling back to DejaVu Sans.\n"
     ]
    },
    {
     "data": {
      "image/png": "[encoded data removed]",
      "text/plain": [
       "<Figure size 720x432 with 1 Axes>"
      ]
     },
     "metadata": {
      "needs_background": "light"
     },
     "output_type": "display_data"
    },
    {
     "name": "stdout",
     "output_type": "stream",
     "text": [
      "Likes per post (avg.): 7.4 hoax vs 5.7 non-hoax\n",
      "Likes per post (median): 4.0 hoax vs 3.0 non-hoax\n",
      "Likes per post (max): 50 hoax vs 50 non-hoax\n"
     ]
    }
   ],
   "source": [
    "# Histogram of the likes per post distribution\n",
    "maxlikes = 200\n",
    "bins = list(range(0,maxlikes+1,2))\n",
    "\n",
    "\n",
    "plt.figure(figsize=(10,6))\n",
    "\n",
    "hoax_nlikes_f = [len(likes) for post_id, likes in datadict.items() if is_hoax(post_id)]\n",
    "nhoax_nlikes_f = [len(likes) for post_id, likes in datadict.items() if not is_hoax(post_id)]\n",
    "\n",
    "#n, _, p1 = plt.hist(list(filter(lambda x: x<=maxlikes, nhoax_nlikes_f)),bins=bins, alpha=0)\n",
    "n, bin_edges = np.histogram(list(filter(lambda x: x<=maxlikes, hoax_nlikes_f)),bins=bins)\n",
    "p2 = plt.plot(range(1,maxlikes+1,2),n, marker='D', linestyle='', color='red')\n",
    "_, _, p3 = plt.hist(list(filter(lambda x: x<=maxlikes, nhoax_nlikes_f)), bins=bins, alpha=0.5, color='green')\n",
    "\n",
    "\n",
    "plt.xlim([0,50])\n",
    "plt.yscale('log')\n",
    "plt.title(\"Rozklad liczby udostepnien na post\")\n",
    "plt.xlabel(\"Liczba udostepnien\")\n",
    "plt.ylabel(\"Liczba postow\")\n",
    "plt.legend(labels=[\"Posty klasy Nierzetelne\", \"Posty klasy Mainstream\"])\n",
    "# plt.savefig(\"postlikes_hist.pdf\")\n",
    "plt.show()\n",
    "print(\"Likes per post (avg.): %.1f hoax vs %.1f non-hoax\" % (np.average(hoax_nlikes_f), np.average(nhoax_nlikes_f)))\n",
    "print(\"Likes per post (median): %.1f hoax vs %.1f non-hoax\" % (np.median(hoax_nlikes_f), np.median(nhoax_nlikes_f)))\n",
    "print(\"Likes per post (max): %d hoax vs %d non-hoax\" % (np.max(hoax_nlikes_f), np.max(nhoax_nlikes_f)))"
   ]
  },
  {
   "cell_type": "code",
   "execution_count": 13,
   "metadata": {},
   "outputs": [
    {
     "data": {
      "image/png": "[encoded data removed]",
      "text/plain": [
       "<Figure size 288x216 with 1 Axes>"
      ]
     },
     "metadata": {
      "needs_background": "light"
     },
     "output_type": "display_data"
    }
   ],
   "source": [
    "# Histogram of likes per user distribution\n",
    "maxlikes = 200\n",
    "minlikes = 0\n",
    "bins = list(range(minlikes,maxlikes+1,10))\n",
    "from collections import Counter\n",
    "user_nlikes = [x for x in Counter(likes_hoax+likes_nhoax).values()]\n",
    "bothuser_nlikes = [x for x in Counter(filter(lambda x: x in both_likers,\n",
    "                                             likes_hoax+likes_nhoax)\n",
    "                                      ).values()]\n",
    "n, bin_edges = np.histogram(bothuser_nlikes, \n",
    "                            bins=bins)\n",
    "p2 = plt.plot(range(5,maxlikes+1,10),n, marker='D', linestyle='', color='yellow')\n",
    "\n",
    "plt.hist(list(filter(lambda x: x<=maxlikes and x>=minlikes, user_nlikes)), bins=bins, alpha=0.75, color='blue')\n",
    "plt.xlim([minlikes, maxlikes])\n",
    "plt.yscale('log')\n",
    "plt.xlabel(\"N. of likes\")\n",
    "plt.ylabel(\"N. of users\")\n",
    "plt.title(\"Likes per user\")\n",
    "plt.legend(labels=[\"Intersection dataset\", \"Complete dataset\"])\n",
    "plt.savefig(\"userlikes_hist.pdf\")\n",
    "plt.show()"
   ]
  },
  {
   "cell_type": "code",
   "execution_count": 14,
   "metadata": {},
   "outputs": [
    {
     "name": "stdout",
     "output_type": "stream",
     "text": [
      "N. of users with one single like: 5295 (46.1%)\n",
      "N. of users with 2 like: 1728 (15.0%)\n"
     ]
    }
   ],
   "source": [
    "from collections import Counter\n",
    "data_user = Counter(Counter(likes_hoax+likes_nhoax).values())\n",
    "\n",
    "print(\"N. of users with one single like: %d (%.1f%%)\" % (data_user[1], 100*data_user[1]/get_number_of_users(datadict)))\n",
    "\n",
    "print(\"N. of users with 2 like: %d (%.1f%%)\" % (data_user[2], 100*data_user[2]/get_number_of_users(datadict)))\n"
   ]
  },
  {
   "cell_type": "code",
   "execution_count": 15,
   "metadata": {},
   "outputs": [
    {
     "data": {
      "image/png": "[encoded data removed]",
      "text/plain": [
       "<Figure size 288x216 with 1 Axes>"
      ]
     },
     "metadata": {
      "needs_background": "light"
     },
     "output_type": "display_data"
    }
   ],
   "source": [
    "# Scatter plot: hoax likes vs. nonhoax likes\n",
    "userlikes_split = likes_per_user_split_count(datafu)\n",
    "minlike = 10\n",
    "xylim = 50\n",
    "mask = (userlikes_split[:,0] + userlikes_split[:,1] >= minlike) \\\n",
    "    * (userlikes_split[:,0] <= xylim) \\\n",
    "    * (userlikes_split[:,1] <= xylim)\n",
    "\n",
    "x = userlikes_split[mask, 0]\n",
    "y = userlikes_split[mask, 1]\n",
    "plt.scatter(x, y, alpha=0.2)\n",
    "plt.xlim([0,xylim])\n",
    "plt.ylim([0,xylim])\n",
    "plt.xlabel(\"Likes to hoax posts\")\n",
    "plt.ylabel(\"Likes to non-hoax posts\")\n",
    "plt.savefig(\"bothusers_scatter.pdf\")\n",
    "plt.show()"
   ]
  },
  {
   "cell_type": "code",
   "execution_count": 16,
   "metadata": {},
   "outputs": [
    {
     "data": {
      "image/png": "[encoded data removed]",
      "text/plain": [
       "<Figure size 288x216 with 2 Axes>"
      ]
     },
     "metadata": {
      "needs_background": "light"
     },
     "output_type": "display_data"
    }
   ],
   "source": [
    "# Heatmap plot: hoax likes vs. nonhoax likes\n",
    "userlikes_split = likes_per_user_split_count(datafu)\n",
    "xylim = 40\n",
    "from matplotlib.colors import LogNorm\n",
    "x = userlikes_split[:,0]\n",
    "y = userlikes_split[:,1]\n",
    "mask = (x <= xylim) * (y <= xylim)\n",
    "plt.hist2d(x[mask], y[mask], bins=xylim, norm=LogNorm(vmin=0.15))\n",
    "plt.xlim([0,xylim])\n",
    "plt.ylim([0,xylim])\n",
    "plt.xlabel(\"Likes to hoax posts\")\n",
    "plt.ylabel(\"Likes to non-hoax posts\")\n",
    "plt.set_cmap(\"YlOrRd\")\n",
    "#legend\n",
    "cbar = plt.colorbar()\n",
    "cbar.set_label('N. of users')\n",
    "plt.savefig(\"userlikes_hist2d.pdf\")\n",
    "plt.show()"
   ]
  },
  {
   "cell_type": "code",
   "execution_count": 17,
   "metadata": {},
   "outputs": [
    {
     "data": {
      "image/png": "[encoded data removed]",
      "text/plain": [
       "<Figure size 288x216 with 1 Axes>"
      ]
     },
     "metadata": {
      "needs_background": "light"
     },
     "output_type": "display_data"
    },
    {
     "data": {
      "image/png": "[encoded data removed]",
      "text/plain": [
       "<Figure size 288x216 with 1 Axes>"
      ]
     },
     "metadata": {
      "needs_background": "light"
     },
     "output_type": "display_data"
    },
    {
     "name": "stdout",
     "output_type": "stream",
     "text": [
      "N. of users with p: 0.25<p<=0.75 => 496\n"
     ]
    }
   ],
   "source": [
    "# Histogram of hoax likes proportion for intersection users \n",
    "userlikes_split = likes_per_user_split_count(datadict, f=lambda x: x in both_likers)\n",
    "# userlikes_split = likes_per_user_split_count(datadict)\n",
    "lim = 10  # minimum total number of likes\n",
    "mask = (userlikes_split[:,0] + userlikes_split[:,1] >= lim)\n",
    "x = userlikes_split[mask, 0]\n",
    "y = userlikes_split[mask, 1]\n",
    "w = x + y\n",
    "p = x / w\n",
    "nbins = int(np.log2(len(x)))+2\n",
    "plt.hist(p, bins=np.linspace(0,1,lim))\n",
    "plt.xlim([0,1])\n",
    "plt.xlabel(\"Likes to hoax posts / total likes\")\n",
    "plt.ylabel(\"N. of users\")\n",
    "plt.savefig(\"bothusers_hist.pdf\")\n",
    "plt.show()\n",
    "plt.hist(p, weights=w, bins=lim)\n",
    "#plt.yscale('log')\n",
    "plt.xlabel(\"Likes to hoax posts / total likes\")\n",
    "plt.ylabel(\"Weighted n. of users\")\n",
    "plt.savefig(\"allmixedusers.png\")\n",
    "plt.show()\n",
    "print(\"N. of users with p: 0.25<p<=0.75 => %d\" % len(p[(p>0.25)*(p<=0.75)]))"
   ]
  },
  {
   "cell_type": "heading",
   "level": 2,
   "metadata": {},
   "source": [
    "Common users page vs page"
   ]
  },
  {
   "cell_type": "code",
   "execution_count": 18,
   "metadata": {},
   "outputs": [
    {
     "name": "stdout",
     "output_type": "stream",
     "text": [
      "Wall time: 51 ms\n"
     ]
    }
   ],
   "source": [
    "%%time\n",
    "# Create new dict {pageid: list of likers}\n",
    "pageslikesdict = dict()\n",
    "for postid, likes in datadict.items():\n",
    "    pageid = postid.split('_')[0]\n",
    "    if pageid in pageslikesdict:\n",
    "        pageslikesdict[pageid] += likes\n",
    "    else:\n",
    "        pageslikesdict[pageid] = likes\n",
    "for pageid, likes in pageslikesdict.items():\n",
    "    pageslikesdict[pageid] = set(pageslikesdict[pageid])\n",
    "    # print(\"%s %d %d\" % (pageid, (pageid in pages_hoax), len(likes)))"
   ]
  },
  {
   "cell_type": "code",
   "execution_count": 19,
   "metadata": {},
   "outputs": [
    {
     "name": "stdout",
     "output_type": "stream",
     "text": [
      "253\n",
      "Wall time: 14 ms\n"
     ]
    }
   ],
   "source": [
    "%%time\n",
    "# Likers in common for pages as a dict {(pageid, pageid): # of users in common}\n",
    "from itertools import combinations, combinations_with_replacement\n",
    "print(len(list(combinations(pages_hoax+pages_nonhoax, 2))))\n",
    "commondict = dict()\n",
    "# for pair in combinations(pages_hoax+pages_nonhoax, 2):\n",
    "for pair in combinations_with_replacement(pages_hoax+pages_nonhoax, 2):\n",
    "    commondict[pair] = len( pageslikesdict[pair[0]] & pageslikesdict[pair[1]] )"
   ]
  },
  {
   "cell_type": "code",
   "execution_count": 30,
   "metadata": {},
   "outputs": [
    {
     "name": "stdout",
     "output_type": "stream",
     "text": [
      "[[ 514    0   60  138   99   66   16   63  159    7   65   20   49   28\n",
      "    23  159    3  107    6  111    7   17   38]\n",
      " [   0    2    0    0    0    0    0    0    0    0    0    0    1    1\n",
      "     1    1    0    0    0    0    0    1    1]\n",
      " [   0    0  206   56   52   37    7   33   46    7   36    7   32   13\n",
      "    18   65    1   62    4   30    0   10   19]\n",
      " [   0    0    0 2234  411  442   10  244  128   10  343   59  232   62\n",
      "    65  884   25  198   10   70   16   59  127]\n",
      " [   0    0    0    0 1346  406    4  363   85    8  395   56  248   73\n",
      "   105  837   16  229   12   43   21   76  139]\n",
      " [   0    0    0    0    0  957    5  260   62    8  337   34  198   45\n",
      "    87  712   15  156    3   39   12   50  101]\n",
      " [   0    0    0    0    0    0   32    6   12    0    6    2    2    2\n",
      "     3   10    0   10    0   10    0    4    3]\n",
      " [   0    0    0    0    0    0    0  649   52   10  241   32  148   44\n",
      "    85  473   13  150    5   41    9   56   84]\n",
      " [   0    0    0    0    0    0    0    0  420    4   51   16   53   21\n",
      "    20  136    4   91    6   93    6   14   35]\n",
      " [   0    0    0    0    0    0    0    0    0  120    7   15   27   21\n",
      "     9   20    5   44   10    6    6   14   34]\n",
      " [   0    0    0    0    0    0    0    0    0    0  952   60  186   68\n",
      "    90  692   16  180    9   34   28   67  126]\n",
      " [   0    0    0    0    0    0    0    0    0    0    0 1247  355  325\n",
      "    23  161   94  393  132   20  129  121  612]\n",
      " [   0    0    0    0    0    0    0    0    0    0    0    0 1930  367\n",
      "    65  472   82  551   97   46  122  196  666]\n",
      " [   0    0    0    0    0    0    0    0    0    0    0    0    0 1092\n",
      "    35  202   64  401  104   17  131  150  534]\n",
      " [   0    0    0    0    0    0    0    0    0    0    0    0    0    0\n",
      "   218  136    5   67    8   12   14   33   45]\n",
      " [   0    0    0    0    0    0    0    0    0    0    0    0    0    0\n",
      "     0 3643   39  472   34   98   73  155  404]\n",
      " [   0    0    0    0    0    0    0    0    0    0    0    0    0    0\n",
      "     0    0  222  100   41    2   32   33  126]\n",
      " [   0    0    0    0    0    0    0    0    0    0    0    0    0    0\n",
      "     0    0    0 2031  116   81  125  216  684]\n",
      " [   0    0    0    0    0    0    0    0    0    0    0    0    0    0\n",
      "     0    0    0    0  314    5   45   42  163]\n",
      " [   0    0    0    0    0    0    0    0    0    0    0    0    0    0\n",
      "     0    0    0    0    0  251    1   11   25]\n",
      " [   0    0    0    0    0    0    0    0    0    0    0    0    0    0\n",
      "     0    0    0    0    0    0  364   56  252]\n",
      " [   0    0    0    0    0    0    0    0    0    0    0    0    0    0\n",
      "     0    0    0    0    0    0    0  454  215]\n",
      " [   0    0    0    0    0    0    0    0    0    0    0    0    0    0\n",
      "     0    0    0    0    0    0    0    0 2857]]\n"
     ]
    },
    {
     "data": {
      "image/png": "[encoded data removed]",
      "text/plain": [
       "<Figure size 288x216 with 2 Axes>"
      ]
     },
     "metadata": {
      "needs_background": "light"
     },
     "output_type": "display_data"
    }
   ],
   "source": [
    "# Plot the likers in common as a matrix and as an image\n",
    "from matplotlib.colors import LogNorm\n",
    "M = np.zeros((23,23), dtype=np.int)\n",
    "pageN = {p: i for i, p in enumerate(pages_hoax+pages_nonhoax)}\n",
    "for pair, nusers in commondict.items():\n",
    "    M[pageN[pair[0]], pageN[pair[1]]] = nusers\n",
    "print(M)\n",
    "np.savetxt(\"pagesusers_matrix.csv\", M,  delimiter=',')\n",
    "\n",
    "fig = plt.figure()\n",
    "plt.imshow(M + np.transpose(M), interpolation='nearest', norm=LogNorm())\n",
    "\n",
    "plt.axvline(9.6, color='k')\n",
    "plt.axhline(9.6, color='k')\n",
    "plt.text(4, -2, \"Konta\\nnierzetelne\", \n",
    "         fontsize=12,\n",
    "         horizontalalignment='center')\n",
    "plt.text(15, -2, \"Konta\\nmainstream\", \n",
    "         fontsize=12,\n",
    "         horizontalalignment='center')\n",
    "plt.text(-4, 4, \"Konta\\nnierzetelne\", \n",
    "         fontsize=12,\n",
    "         horizontalalignment='right',\n",
    "         verticalalignment='center')\n",
    "plt.text(-4, 15, \"Konta\\nmainstream\", \n",
    "         fontsize=12,\n",
    "         horizontalalignment='right',\n",
    "         verticalalignment='center')\n",
    "\n",
    "plt.set_cmap(\"GnBu\")\n",
    "cbar = plt.colorbar()\n",
    "cbar.set_label('Liczba wspólnych\\nuzytkownikow retweetujacych')\n",
    "fig.subplots_adjust(top=0.85, left=0.27)\n",
    "fig.savefig(\"users_pages.pdf\")\n",
    "plt.show()"
   ]
  },
  {
   "cell_type": "code",
   "execution_count": 21,
   "metadata": {},
   "outputs": [
    {
     "data": {
      "image/png": "[encoded data removed]",
      "text/plain": [
       "<Figure size 288x216 with 1 Axes>"
      ]
     },
     "metadata": {
      "needs_background": "light"
     },
     "output_type": "display_data"
    }
   ],
   "source": [
    "plt.spy(M + np.transpose(M))\n",
    "plt.show()"
   ]
  },
  {
   "cell_type": "code",
   "execution_count": 22,
   "metadata": {},
   "outputs": [
    {
     "name": "stdout",
     "output_type": "stream",
     "text": [
      "done\n"
     ]
    }
   ],
   "source": [
    "print(\"done\")"
   ]
  },
  {
   "cell_type": "code",
   "execution_count": null,
   "metadata": {},
   "outputs": [],
   "source": []
  }
 ],
 "metadata": {
  "kernelspec": {
   "display_name": "Python 3",
   "language": "python",
   "name": "python3"
  },
  "language_info": {
   "codemirror_mode": {
    "name": "ipython",
    "version": 3
   },
   "file_extension": ".py",
   "mimetype": "text/x-python",
   "name": "python",
   "nbconvert_exporter": "python",
   "pygments_lexer": "ipython3",
   "version": "3.7.6"
  }
 },
 "nbformat": 4,
 "nbformat_minor": 1
}
