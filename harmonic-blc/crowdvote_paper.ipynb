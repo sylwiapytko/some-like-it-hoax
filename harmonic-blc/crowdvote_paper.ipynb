{
 "cells": [
  {
   "cell_type": "markdown",
   "metadata": {
    "collapsed": true
   },
   "source": []
  },
  {
   "cell_type": "code",
   "execution_count": 1,
   "metadata": {},
   "outputs": [],
   "source": [
    "# Analysis of Facebook likes using \"harmonic\" crowdsourcing algorithm.\n",
    "# This is an analysis performed entirely on the users who have liked both good and bad items; \n",
    "# this intersection forms the hardest \"core\" of the problem."
   ]
  },
  {
   "cell_type": "code",
   "execution_count": 2,
   "metadata": {},
   "outputs": [],
   "source": [
    "%matplotlib inline\n",
    "# import json_plus\n",
    "import json\n",
    "import numpy as np\n",
    "import matplotlib.pyplot as plt\n",
    "import random\n",
    "import voting\n",
    "import matplotlib"
   ]
  },
  {
   "cell_type": "code",
   "execution_count": 3,
   "metadata": {},
   "outputs": [],
   "source": [
    "# Set figure size.\n",
    "matplotlib.rcParams['figure.figsize'] = (4.0, 2.0)\n",
    "matplotlib.rcParams['errorbar.capsize'] = 5\n",
    "params = {'legend.fontsize': 'x-large',\n",
    "         'axes.labelsize': 'x-large',\n",
    "         'axes.titlesize':'x-large',\n",
    "         'xtick.labelsize':'x-large',\n",
    "         'ytick.labelsize':'x-large'}\n",
    "matplotlib.rcParams.update(params)\n",
    "plt.rc('text', usetex=True)\n",
    "# plt.rc('font', family='serif')\n"
   ]
  },
  {
   "cell_type": "code",
   "execution_count": 4,
   "metadata": {},
   "outputs": [
    {
     "name": "stdout",
     "output_type": "stream",
     "text": [
      "Loaded.\n"
     ]
    }
   ],
   "source": [
    "# Data loading\n",
    "with open('../dataset/retweeters.json') as data_file:\n",
    "    data = json.load(data_file)\n",
    "print(\"Loaded.\")"
   ]
  },
  {
   "cell_type": "code",
   "execution_count": 5,
   "metadata": {},
   "outputs": [
    {
     "name": "stdout",
     "output_type": "stream",
     "text": [
      "N. of posts: 15727\n",
      "N. of likes 98782\n",
      "N. of unique users: 11496\n",
      "Avg. likes per user: 8.00\n",
      "Avg. likes per post: 6.00\n"
     ]
    }
   ],
   "source": [
    "# Counts\n",
    "post_list = [i for i in data.keys()]\n",
    "user_list = []\n",
    "for i in data.values():\n",
    "    user_list.extend(i)\n",
    "user_set = set(user_list)\n",
    "nlikes = len(user_list)\n",
    "nuser = len(user_set)\n",
    "nposts = len(data)\n",
    "print('N. of posts: %s' % nposts)\n",
    "print('N. of likes %d' % nlikes)\n",
    "print('N. of unique users: %s' % nuser)\n",
    "print('Avg. likes per user: %.2f' % (nlikes/nuser))\n",
    "print('Avg. likes per post: %.2f' % (nlikes/nposts))"
   ]
  },
  {
   "cell_type": "code",
   "execution_count": 6,
   "metadata": {},
   "outputs": [
    {
     "name": "stdout",
     "output_type": "stream",
     "text": [
      "N. of pages: 9 hoax vs. 14 non-hoax\n",
      "Hoax pages: set(['1359279284', '241488377', '1073461458', '930919729254010885', '2863515755', '844805327254011905', '88763077', '864116008910548992', '1045260886997430272'])\n",
      "Nonhoax pages: set([u'469251331', u'581793998', u'47295451', u'19179390', u'1901341021', u'37664893', u'86058123', u'831151718', u'194399035', u'493172275', u'39480709', u'86022744', u'14493047', u'562800078'])\n"
     ]
    }
   ],
   "source": [
    "# Hoax pages\n",
    "pages = set([i.split('_')[0] for i in post_list])\n",
    "# WARNING: commented out pages DO NOT EXIST.\n",
    "hoax_pages = {'844805327254011905','241488377','1359279284','1073461458','864116008910548992','2863515755','1045260886997430272','88763077','930919729254010885'}\n",
    "nonhoax_pages = pages - hoax_pages\n",
    "error_pages = hoax_pages - pages\n",
    "if len(error_pages) > 0:\n",
    "    print \"Error: some hoax pages never appear:\", error_pages\n",
    "print(\"N. of pages: %d hoax vs. %d non-hoax\" % (len(hoax_pages), len(nonhoax_pages)))\n",
    "print \"Hoax pages:\", hoax_pages\n",
    "print \"Nonhoax pages:\", nonhoax_pages"
   ]
  },
  {
   "cell_type": "code",
   "execution_count": 7,
   "metadata": {},
   "outputs": [
    {
     "name": "stdout",
     "output_type": "stream",
     "text": [
      "N. of posts: 5698 hoax vs. 10029 non-hoax\n"
     ]
    }
   ],
   "source": [
    "# Hoax post categorization\n",
    "hoax_posts = {x for x in data if x.split('_')[0] in hoax_pages}\n",
    "print(\"N. of posts: %d hoax vs. %d non-hoax\" % (len(hoax_posts), nposts-len(hoax_posts)))"
   ]
  },
  {
   "cell_type": "code",
   "execution_count": 8,
   "metadata": {},
   "outputs": [
    {
     "name": "stdout",
     "output_type": "stream",
     "text": [
      "{u'581793998': 985.0, u'241488377': 668.0, u'930919729254010885': 1740.0, u'864116008910548992': 212.0, u'39480709': 544.0, u'37664893': 58.0, u'1901341021': 292.0, u'562800078': 869.0, u'86058123': 127.0, u'831151718': 417.0, u'2863515755': 71.0, u'194399035': 1674.0, u'844805327254011905': 253.0, u'1359279284': 2.0, u'469251331': 305.0, u'47295451': 2170.0, u'19179390': 444.0, u'493172275': 63.0, u'88763077': 99.0, u'1045260886997430272': 154.0, u'1073461458': 2499.0, u'14493047': 1753.0, u'86022744': 328.0}\n"
     ]
    }
   ],
   "source": [
    "# Computes the number of posts per each page.\n",
    "posts_per_page = {}\n",
    "for p, ul in data.items():\n",
    "    page = p.split('_')[0]\n",
    "    posts_per_page[page] = posts_per_page.get(page, 0.0) + 1.0\n",
    "print posts_per_page"
   ]
  },
  {
   "cell_type": "code",
   "execution_count": 9,
   "metadata": {},
   "outputs": [],
   "source": [
    "def graph_correct(d):\n",
    "    \"\"\"Makes a graph of the correctness as a function of number of likes.\"\"\"\n",
    "    print \"Accuracy overall:\", d['ratio_correct']\n",
    "    # Now for the graph. \n",
    "    ys = d['ratio_correct_likes']\n",
    "    xs = range(1, 1 + len(ys))\n",
    "    plt.plot(xs, ys, 'bo')\n",
    "    plt.xlabel('Number of likes')\n",
    "    plt.ylabel('Fraction correct')\n",
    "    plt.ylim(ymax=1.01)\n",
    "    plt.show()"
   ]
  },
  {
   "cell_type": "code",
   "execution_count": 10,
   "metadata": {},
   "outputs": [
    {
     "name": "stdout",
     "output_type": "stream",
     "text": [
      "Number of user who liked both type of pages: 2167\n"
     ]
    }
   ],
   "source": [
    "# Now let's compute the set of users who have voted for BOTH good and bad items. \n",
    "hoax_users = set()\n",
    "nonhoax_users = set()\n",
    "for p, ul in data.items():\n",
    "    page = p.split('_')[0]\n",
    "    # The truth value depends on the page.\n",
    "    tv = not (page in hoax_pages)\n",
    "    if tv:\n",
    "        nonhoax_users.update(ul)\n",
    "    else:\n",
    "        hoax_users.update(ul)\n",
    "users_liked_both = hoax_users & nonhoax_users\n",
    "print \"Number of user who liked both type of pages:\", len(users_liked_both)\n",
    "    "
   ]
  },
  {
   "cell_type": "code",
   "execution_count": 11,
   "metadata": {},
   "outputs": [
    {
     "name": "stdout",
     "output_type": "stream",
     "text": [
      "Number of users in intersection dataset with cardinality 2: 283\n"
     ]
    }
   ],
   "source": [
    "# I want to know, how many of the users above have voted for ONLY two pages.\n",
    "user_cardinality = {}\n",
    "for p, ul in data.items():\n",
    "    for u in ul:\n",
    "        if u in users_liked_both:\n",
    "            user_cardinality[u] = 1 + user_cardinality.get(u, 0)\n",
    "num_with_card_2 = 0\n",
    "for u, c in user_cardinality.items():\n",
    "    if c == 2:\n",
    "        num_with_card_2 += 1\n",
    "print \"Number of users in intersection dataset with cardinality 2:\", num_with_card_2"
   ]
  },
  {
   "cell_type": "code",
   "execution_count": 12,
   "metadata": {},
   "outputs": [
    {
     "name": "stdout",
     "output_type": "stream",
     "text": [
      "Numner of users who liked more than one page: 6201\n"
     ]
    }
   ],
   "source": [
    "# Let's compute the set of users who have voted for more than one page.\n",
    "pages_user = {}\n",
    "for p, ul in data.items():\n",
    "    page = p.split('_')[0]\n",
    "    for u in ul:\n",
    "        pages_user[u] = pages_user.get(u, set()) | {p}\n",
    "multi_page_users = set([u for u, ps in pages_user.items() if len(ps) > 1])\n",
    "print \"Numner of users who liked more than one page:\", len(multi_page_users)"
   ]
  },
  {
   "cell_type": "code",
   "execution_count": 13,
   "metadata": {},
   "outputs": [],
   "source": [
    "# Run this code AFTER computing the set of hoax users above.\n",
    "def add_data(g, use_all=False, use_atleast_two=False):\n",
    "    \"\"\"Adds the data to a graph g.\n",
    "    If use_all is True, it uses all data; otherwise it uses data only from the intersection dataset.\"\"\"\n",
    "    for p, ul in data.items():\n",
    "        page = p.split('_')[0]\n",
    "        # The truth value depends on the page.\n",
    "        tv = not (page in hoax_pages)\n",
    "        for u in ul:\n",
    "            # The polarity is always 1 (pos).\n",
    "            if use_all or (u in users_liked_both) or (use_atleast_two and u in multi_page_users):\n",
    "                g.add_edge(u, p, item_true_value=tv)\n",
    "    print(\"The graph has been built!\")"
   ]
  },
  {
   "cell_type": "code",
   "execution_count": 14,
   "metadata": {},
   "outputs": [
    {
     "name": "stdout",
     "output_type": "stream",
     "text": [
      "The graph has been built!\n",
      "Num items: 12562\n",
      "Num items with truth known: 12562\n",
      "Num items with inferred known: 0\n",
      "Num items testing: 0\n",
      "Min degree: 1\n",
      "Num users: 2167\n",
      "Num likes: 54938\n"
     ]
    }
   ],
   "source": [
    "# Let's get some stats.\n",
    "reload(voting)\n",
    "g = voting.VotingGraph()\n",
    "add_data(g)\n",
    "g.print_stats()"
   ]
  },
  {
   "cell_type": "code",
   "execution_count": 15,
   "metadata": {},
   "outputs": [
    {
     "name": "stdout",
     "output_type": "stream",
     "text": [
      "The graph has been built!\n",
      "Num items: 15649\n",
      "Num items with truth known: 15649\n",
      "Num items with inferred known: 0\n",
      "Num items testing: 0\n",
      "Min degree: 1\n",
      "Num users: 11496\n",
      "Num likes: 98782\n"
     ]
    }
   ],
   "source": [
    "# Let's get some stats.\n",
    "reload(voting)\n",
    "g = voting.VotingGraph()\n",
    "add_data(g, use_all=True)\n",
    "g.print_stats()"
   ]
  },
  {
   "cell_type": "code",
   "execution_count": 16,
   "metadata": {},
   "outputs": [
    {
     "name": "stdout",
     "output_type": "stream",
     "text": [
      "The graph has been built!\n",
      "2 0.926857507987\n",
      "2 0.9263514377\n",
      "2 0.926504792332\n",
      "2 0.926318210863\n",
      "2 0.92602428115\n"
     ]
    }
   ],
   "source": [
    "# 5 fold validation\n",
    "reload(voting)\n",
    "TESTS = [ 2, 2, 2, 2, 2]\n",
    "results_all_x = []\n",
    "results_all_y = []\n",
    "results_all_err = []\n",
    "g = voting.VotingGraph()\n",
    "add_data(g, use_all=True)\n",
    "for f in TESTS:\n",
    "    d = g.evaluate_inference(fraction=f)\n",
    "    print f, d['ratio_correct']\n",
    "    results_all_x.append(f)\n",
    "    results_all_y.append(d['ratio_correct'])\n",
    "    results_all_err.append(d['stdev'])"
   ]
  },
  {
   "cell_type": "code",
   "execution_count": 17,
   "metadata": {},
   "outputs": [
    {
     "name": "stdout",
     "output_type": "stream",
     "text": [
      "res_all_y = 0.9264112460063899\n",
      "res_all_err = 0.002283264801279482\n"
     ]
    }
   ],
   "source": [
    "res_all_y = np.mean(results_all_y) \n",
    "print('res_all_y = %s' % str(res_all_y))\n",
    "\n",
    "res_all_err = np.mean(results_all_err)\n",
    "print('res_all_err = %s' % str(res_all_err))"
   ]
  },
  {
   "cell_type": "code",
   "execution_count": 18,
   "metadata": {},
   "outputs": [
    {
     "name": "stdout",
     "output_type": "stream",
     "text": [
      "The graph has been built!\n",
      "2 0.886992517115\n",
      "2 0.886247412832\n",
      "2 0.886540359815\n",
      "2 0.886600859736\n",
      "2 0.886839675211\n"
     ]
    }
   ],
   "source": [
    "# 5 fold validation  -  Now for the intersection dataset.\n",
    "reload(voting)\n",
    "results_intersection_x = []\n",
    "results_intersection_y = []\n",
    "results_intersection_err = []\n",
    "TESTS = [ 2, 2,2,2,2]\n",
    "g = voting.VotingGraph()\n",
    "add_data(g, use_all=False)\n",
    "for f in TESTS:\n",
    "    d = g.evaluate_inference(fraction=f)\n",
    "    print f, d['ratio_correct']\n",
    "    results_intersection_x.append(f)\n",
    "    results_intersection_y.append(d['ratio_correct'])\n",
    "    results_intersection_err.append(d['stdev'])"
   ]
  },
  {
   "cell_type": "code",
   "execution_count": 19,
   "metadata": {},
   "outputs": [
    {
     "name": "stdout",
     "output_type": "stream",
     "text": [
      "res_all_y = 0.8866441649418884\n",
      "res_all_err = 0.0036898775750254568\n"
     ]
    }
   ],
   "source": [
    "res_all_y = np.mean(results_intersection_y) \n",
    "print('res_all_y = %s' % str(res_all_y))\n",
    "\n",
    "res_all_err = np.mean(results_intersection_err)\n",
    "print('res_all_err = %s' % str(res_all_err))"
   ]
  },
  {
   "cell_type": "code",
   "execution_count": 20,
   "metadata": {},
   "outputs": [
    {
     "name": "stdout",
     "output_type": "stream",
     "text": [
      "The graph has been built!\n",
      "2 0.926515015974\n",
      "5 0.916407348243\n",
      "10 0.904992545261\n",
      "20 0.875875428802\n",
      "50 0.839540979331\n",
      "100 0.813759762473\n",
      "200 0.80056386873\n",
      "400 0.777027546445\n"
     ]
    }
   ],
   "source": [
    "reload(voting)\n",
    "TESTS = [ 2, 5, 10, 20, 50, 100, 200, 400]\n",
    "results_all_x = []\n",
    "results_all_y = []\n",
    "results_all_err = []\n",
    "g = voting.VotingGraph()\n",
    "add_data(g, use_all=True)\n",
    "for f in TESTS:\n",
    "    d = g.evaluate_inference(fraction=f)\n",
    "    print f, d['ratio_correct']\n",
    "    results_all_x.append(f)\n",
    "    results_all_y.append(d['ratio_correct'])\n",
    "    results_all_err.append(d['stdev'])"
   ]
  },
  {
   "cell_type": "code",
   "execution_count": 21,
   "metadata": {},
   "outputs": [
    {
     "name": "stdout",
     "output_type": "stream",
     "text": [
      "results_all_x =  [2, 5, 10, 20, 50, 100, 200, 400]\n",
      "results_all_y =  [0.9265150159744409, 0.9164073482428114, 0.9049925452609159, 0.8758754288020448, 0.8395409793310296, 0.8137597624733751, 0.800563868730332, 0.7770275464445868]\n",
      "results_all_err =  [0.0024205012628465013, 0.003608883590253093, 0.007527326373768251, 0.04202668861751095, 0.059910227757271325, 0.062099732762536684, 0.06031457329322281, 0.0625837227194066]\n"
     ]
    }
   ],
   "source": [
    "print \"results_all_x = \", results_all_x\n",
    "print \"results_all_y = \", results_all_y\n",
    "print \"results_all_err = \", results_all_err"
   ]
  },
  {
   "cell_type": "code",
   "execution_count": 22,
   "metadata": {},
   "outputs": [
    {
     "name": "stdout",
     "output_type": "stream",
     "text": [
      "The graph has been built!\n",
      "2 0.886769622672\n",
      "5 0.87632238806\n",
      "10 0.842623385813\n",
      "20 0.794229931289\n",
      "50 0.712593615466\n",
      "100 0.670452681515\n",
      "200 0.6012208\n",
      "400 0.571705370681\n"
     ]
    }
   ],
   "source": [
    "# Now for the intersection dataset.\n",
    "reload(voting)\n",
    "results_intersection_x = []\n",
    "results_intersection_y = []\n",
    "results_intersection_err = []\n",
    "TESTS = [ 2, 5, 10, 20, 50, 100, 200, 400]\n",
    "g = voting.VotingGraph()\n",
    "add_data(g, use_all=False)\n",
    "for f in TESTS:\n",
    "    d = g.evaluate_inference(fraction=f)\n",
    "    print f, d['ratio_correct']\n",
    "    results_intersection_x.append(f)\n",
    "    results_intersection_y.append(d['ratio_correct'])\n",
    "    results_intersection_err.append(d['stdev'])"
   ]
  },
  {
   "cell_type": "code",
   "execution_count": 23,
   "metadata": {},
   "outputs": [
    {
     "name": "stdout",
     "output_type": "stream",
     "text": [
      "results_intersection_x =  [2, 5, 10, 20, 50, 100, 200, 400]\n",
      "results_intersection_y =  [0.8867696226715491, 0.8763223880597015, 0.8426233858128427, 0.7942299312887549, 0.7125936154658435, 0.6704526815148347, 0.6012208, 0.5717053706807118]\n",
      "results_intersection_err =  [0.0033589981198511236, 0.0036506409067754188, 0.048029375493773944, 0.08430607958469306, 0.1188281096139584, 0.12586709594657042, 0.1384732659806939, 0.14412509904341822]\n"
     ]
    }
   ],
   "source": [
    "print \"results_intersection_x = \", results_intersection_x\n",
    "print \"results_intersection_y = \", results_intersection_y\n",
    "print \"results_intersection_err = \", results_intersection_err"
   ]
  },
  {
   "cell_type": "code",
   "execution_count": 24,
   "metadata": {},
   "outputs": [
    {
     "data": {
      "image/png": "[encoded data removed]",
      "text/plain": [
       "<Figure size 720x432 with 1 Axes>"
      ]
     },
     "metadata": {
      "needs_background": "light"
     },
     "output_type": "display_data"
    }
   ],
   "source": [
    "# Let's generate the graphs, without having to re-run everything.\n",
    "import matplotlib\n",
    "matplotlib.rcParams['figure.figsize'] = (10.0, 6.0)\n",
    "res_all_x = results_all_x\n",
    "res_all_y = results_all_y\n",
    "res_all_err = results_all_err\n",
    "res_int_x = results_intersection_x\n",
    "res_int_y = results_intersection_y\n",
    "res_int_err = results_intersection_err\n",
    "# Results of Some Like It Hoax oryginal\n",
    "# res_all_x = [10, 20, 40, 100, 200, 400, 1000]\n",
    "# res_all_y = [0.9947928315412187, 0.9945765704584041, 0.9944259908687885, 0.9942717497556207, 0.9941477014847955, 0.9369124304747122, 0.7925489183080401]\n",
    "# res_all_err = [0.00018177945073084267, 0.0001663545936217604, 0.0001440948332039384, 9.8616786904011806e-05, 8.3849643572967626e-05, 0.081584186225229241, 0.15831802229801958]\n",
    "# res_int_x = [10, 20, 40, 100, 200, 400, 1000]\n",
    "# res_int_y = [0.8981516687790452, 0.8505363217930758, 0.8258925611777322, 0.744059529524724, 0.6773977837218189, 0.5783037926434152, 0.519162702188392]\n",
    "# res_int_err = [0.015822423827105362, 0.038183501343605319, 0.06444397351136516, 0.10609695794657316, 0.13381654475491597, 0.12521980663556254, 0.1100818925571475]\n",
    "\n",
    "# res_gt2_x = [10, 20, 50, 100, 200, 400, 1000]\n",
    "# res_gt2_y = [0.9973278594065111, 0.9970522006141249, 0.9968679719539622, 0.9968190151911995, 0.9925245944361196, 0.9633779568494931, 0.8052144572058919]\n",
    "# res_gt2_err = [0.00014918118105160575, 0.00017208488861027103, 9.1833862792139789e-05, 8.3946414408233029e-05, 0.020896853639959776, 0.065442264421548352, 0.16442557191302057]\n",
    "\n",
    "# We need the fractions\n",
    "res_a_x = [1.0 / x for x in res_all_x]\n",
    "res_i_x = [1.0 / x for x in res_int_x]\n",
    "# res_a_x = [x * nposts for x in res_a_x]\n",
    "# Builds the plots.\n",
    "fig, ax = plt.subplots(1)\n",
    "ax.errorbar(res_a_x, res_all_y, yerr=res_all_err, marker='o', label='complete dataset')\n",
    "# ax.errorbar(res_a_x, res_gt2_y, yerr=res_gt2_err, marker='x', label='multipage dataset')\n",
    "ax.errorbar(res_a_x, res_int_y, yerr=res_int_err, marker='+', label='intersection dataset')\n",
    "plt.ylim(0.45, 1.05)\n",
    "plt.xscale('log')\n",
    "plt.xlim(1/1200.0, 1/1.0)\n",
    "ax.legend()\n",
    "ax.grid()\n",
    "plt.title('Accuracy vs. number of items in learning set')\n",
    "plt.plot()\n",
    "plt.savefig('accuracy_vs_perc.pdf')"
   ]
  },
  {
   "cell_type": "code",
   "execution_count": 25,
   "metadata": {},
   "outputs": [],
   "source": [
    "# Let's define the results from the other notebook on logistic regression.\n",
    "# See ../logistic_regression/logreg_tests_final.ipynb \n",
    "\n",
    "# Results of Some Like It Hoax oryginal\n",
    "# logi_res_all_y = [0.96669677419354827, 0.95533989813242781, 0.93099144173798531, 0.90329749103942636, 0.84348699993516163, 0.74553227266847766, 0.63488149822408779]\n",
    "# logi_res_all_err = [0.0055568473928726322, 0.0096648261910718368, 0.019235373404428768, 0.038534806597708672, 0.059711620024988706, 0.086215312070645644, 0.11551090232666143]\n",
    "# logi_res_int_y = [0.91654203633291076, 0.89193315989593758, 0.84144907856450035, 0.77512049927988469, 0.70986052732136029, 0.63810367829235748, 0.56102949571836336]\n",
    "# logi_res_int_err = [0.0077756103084875598, 0.013865324498876704, 0.029058334540871818, 0.047490066556372029, 0.05720552897645028, 0.060875349450386827, 0.054692571945068366]\n",
    "# Mine\n",
    "logi_res_all_y = [0.9345701932858597, 0.9259831505325069, 0.9167205934298833, 0.9068228364901947, 0.8884720690326346, 0.8723185613359025, 0.8514371525337081, 0.808389852116267]\n",
    "logi_res_all_err = [0.0024486757316576385, 0.0022813016837548348, 0.002515714363507264, 0.004475572764453983, 0.009863661481339969, 0.01238009548686527, 0.02237856910107369, 0.06698978242554172]\n",
    "logi_res_int_y = [0.9111224327336411, 0.9011741293532336, 0.8928586591190519, 0.8821032344561758, 0.8647940865892292, 0.8415100104526814, 0.8160160000000001, 0.7612034155294869]\n",
    "logi_res_int_err = [0.002941655225596091, 0.002820259301581182, 0.004184118937850038, 0.004491790962440057, 0.010124917748065357, 0.017503170546246616, 0.02282316857931869, 0.056907337639747875]"
   ]
  },
  {
   "cell_type": "code",
   "execution_count": null,
   "metadata": {},
   "outputs": [],
   "source": []
  },
  {
   "cell_type": "code",
   "execution_count": 26,
   "metadata": {},
   "outputs": [
    {
     "data": {
      "image/png": "[encoded data removed]",
      "text/plain": [
       "<Figure size 432x288 with 1 Axes>"
      ]
     },
     "metadata": {
      "needs_background": "light"
     },
     "output_type": "display_data"
    }
   ],
   "source": [
    "# Let us now plot the results, on the same dataset, of logistic and harmonic.\n",
    "fig, ax = plt.subplots(figsize=(6, 4))\n",
    "ax.errorbar(res_a_x, logi_res_all_y, yerr=logi_res_all_err, marker='s', label='logistic regression')\n",
    "ax.errorbar(res_a_x, res_all_y, yerr=res_all_err, marker='o', label='harmonic algorithm')\n",
    "plt.ylim(0.45, 1.05)\n",
    "plt.xscale('log')\n",
    "plt.xlim(1/1200.0, 1/1.0)\n",
    "ax.legend()\n",
    "ax.grid()\n",
    "plt.xlabel('Fraction of items in training set')\n",
    "plt.ylabel('Accuracy')\n",
    "plt.title('Accuracy vs. fraction of items in learning set,\\ncomplete dataset')\n",
    "plt.plot()\n",
    "plt.savefig('accuracy_vs_fraction_all_s.pdf', bbox_inches='tight')"
   ]
  },
  {
   "cell_type": "code",
   "execution_count": 27,
   "metadata": {},
   "outputs": [
    {
     "data": {
      "image/png": "[encoded data removed]",
      "text/plain": [
       "<Figure size 756x432 with 1 Axes>"
      ]
     },
     "metadata": {
      "needs_background": "light"
     },
     "output_type": "display_data"
    }
   ],
   "source": [
    "# Let us now plot the results, on the same dataset, of logistic and harmonic.\n",
    "fig, ax = plt.subplots(figsize=(10.5, 6))\n",
    "ax.errorbar(res_a_x, logi_res_all_y, yerr=logi_res_all_err, marker='s', label='regresja logistyczna')\n",
    "ax.errorbar(res_a_x, res_all_y, yerr=res_all_err, marker='o', label='algorytm harmoniczny')\n",
    "plt.ylim(0.45, 1.05)\n",
    "plt.xscale('log')\n",
    "plt.xlim(1/1200.0, 1/1.0)\n",
    "ax.legend()\n",
    "ax.grid()\n",
    "plt.xlabel('Wielkosc zbioru uczacego do calego zbioru pelnego')\n",
    "plt.ylabel('Precyzja')\n",
    "plt.title('Precyzja vs. wielkosc zbioru uczacego dla zbioru pelnego')\n",
    "plt.plot()\n",
    "plt.savefig('accuracy_vs_fraction_all_b.pdf', bbox_inches='tight')"
   ]
  },
  {
   "cell_type": "code",
   "execution_count": 28,
   "metadata": {},
   "outputs": [
    {
     "data": {
      "image/png": "[encoded data removed]",
      "text/plain": [
       "<Figure size 432x288 with 1 Axes>"
      ]
     },
     "metadata": {
      "needs_background": "light"
     },
     "output_type": "display_data"
    }
   ],
   "source": [
    "# Now the same, but for the intersection dataset.\n",
    "fig, ax = plt.subplots(figsize=(6,4))\n",
    "ax.errorbar(res_a_x, logi_res_int_y, yerr=logi_res_int_err, marker='s', label='logistic regression')\n",
    "ax.errorbar(res_a_x, res_int_y, yerr=res_int_err, marker='o', label='harmonic algorithm')\n",
    "plt.ylim(0.45, 1.05)\n",
    "plt.xscale('log')\n",
    "plt.xlim(1/1200.0, 1/3.0)\n",
    "ax.legend()\n",
    "plt.xlabel('Fraction of items in training set')\n",
    "plt.ylabel('Accuracy')\n",
    "ax.grid()\n",
    "plt.title('Accuracy vs. fraction of items in learning set,\\n intersection dataset')\n",
    "plt.plot()\n",
    "plt.savefig('accuracy_vs_fraction_int_s.pdf', bbox_inches='tight')"
   ]
  },
  {
   "cell_type": "code",
   "execution_count": 29,
   "metadata": {},
   "outputs": [
    {
     "data": {
      "image/png": "[encoded data removed]",
      "text/plain": [
       "<Figure size 756x432 with 1 Axes>"
      ]
     },
     "metadata": {
      "needs_background": "light"
     },
     "output_type": "display_data"
    }
   ],
   "source": [
    "# Now the same, but for the intersection dataset.\n",
    "fig, ax = plt.subplots(figsize=(10.5, 6))\n",
    "# res_a_x = [12562.0, 6281.0, 2512.0, 1256.0, 628.0, 251.0, 125.0, 62.0, 31.0]\n",
    "ax.errorbar(res_a_x, logi_res_int_y, yerr=logi_res_int_err, marker='s', label='regresja logistyczna')\n",
    "ax.errorbar(res_a_x, res_int_y, yerr=res_int_err, marker='o', label='algorytm harmoniczny')\n",
    "plt.ylim(0.45, 1.05)\n",
    "plt.xscale('log')\n",
    "plt.xlim(1/1200.0, 1/1.0)\n",
    "ax.legend()\n",
    "plt.xlabel('Wielkosc zbioru uczacego do calego zbioru intersekcji')\n",
    "plt.ylabel('Precyzja')\n",
    "ax.grid()\n",
    "plt.title('Precyzja vs. wielkosc zbioru uczacego dla zbioru intersekcji')\n",
    "plt.plot()\n",
    "plt.savefig('accuracy_vs_fraction_int_b.pdf', bbox_inches='tight')"
   ]
  },
  {
   "cell_type": "code",
   "execution_count": null,
   "metadata": {},
   "outputs": [],
   "source": [
    "# We can also produce all four in the same graph, in case we lack space.\n",
    "fig, ax = plt.subplots(figsize=(20,10))\n",
    "ax.errorbar(res_a_x, res_all_y, yerr=res_all_err, marker='o', label='Harmonic algorithm, complete dataset')\n",
    "ax.errorbar(res_a_x, logi_res_all_y, yerr=logi_res_all_err, marker='s', ls='--', label='Logistic regression, complete dataset')\n",
    "ax.errorbar(res_a_x, res_int_y, yerr=res_int_err, marker='^', ls='-.', label='Harmonic algorithm, intersection dataset')\n",
    "ax.errorbar(res_a_x, logi_res_int_y, yerr=logi_res_int_err, marker='v', ls=':', label='Logistic regression, intersection dataset')\n",
    "plt.ylim(0.35, 1.05)\n",
    "plt.xscale('log')\n",
    "plt.xlim(1/1200.0, 1/1.0)\n",
    "plt.xlabel('Fraction of items in training set')\n",
    "plt.ylabel('Accuracy')\n",
    "ax.legend()\n",
    "ax.grid()\n",
    "plt.plot()\n",
    "plt.savefig('accuracy_vs_fraction_joint.pdf', bbox_inches='tight')"
   ]
  },
  {
   "cell_type": "code",
   "execution_count": null,
   "metadata": {},
   "outputs": [],
   "source": [
    "# Now we do the same as above, BUT resampling so that we sample each item\n",
    "# with probability proportional to the number of likes.\n",
    "reload(voting)\n",
    "TESTS = [(10, 50), (20, 50), (50, 50), (100, 50), (200, 50), (400, 50), (1000, 50)]\n",
    "results_all_edges_x = []\n",
    "results_all_edges_y = []\n",
    "results_all_edges_err = []\n",
    "g = voting.VotingGraph()\n",
    "add_data(g, use_all=True)\n",
    "for num_chunks, num_eval_chunks in TESTS:\n",
    "    cs = []\n",
    "    for i in range(num_eval_chunks):\n",
    "        cs.append(g.evaluate_inference_selecting_prop_likes(1.0 / num_chunks))\n",
    "    results_all_edges_x.append(num_chunks)\n",
    "    results_all_edges_y.append(np.average(cs))\n",
    "    results_all_edges_err.append(np.std(cs))\n",
    "print \"results_all_edges_x = \", results_all_edges_x\n",
    "print \"results_all_edges_y = \", results_all_edges_y\n",
    "print \"results_all_edges_err = \",  results_all_edges_err\n",
    "        "
   ]
  },
  {
   "cell_type": "code",
   "execution_count": null,
   "metadata": {},
   "outputs": [],
   "source": [
    "# Now for a comparison graph.\n",
    "# res_int_x = [10, 20, 50, 100, 200, 400, 1000]\n",
    "# res_int_y = [0.897950992817913, 0.8580698419051431, 0.8208923375363725, 0.7617321171387422, 0.6787648070309514, 0.6216285496474175, 0.5144928639391056]\n",
    "# res_int_err = [0.016882041525877665, 0.039889350640687743, 0.063391675604248701, 0.10959444258799378, 0.14373167394339534, 0.13662163819741741, 0.10275693241854568]\n",
    "# res_edg_x = [10, 20, 50, 100, 200, 400, 1000]\n",
    "# res_edg_y = [0.88999788762146181, 0.87536521913147891, 0.82294277400581961, 0.72839750360057598, 0.67358937613451797, 0.63884981894415849, 0.59327719097916076]\n",
    "# res_edg_err = [0.0068357969684385966, 0.0084777131391844795, 0.037350044990327166, 0.085970631359878633, 0.09539911360266122, 0.10455997072894992, 0.10284262914317449]\n",
    "\n",
    "res_edg_x = results_all_edges_x \n",
    "res_edg_y = results_all_edges_y \n",
    "res_edg_err = results_all_edges_err \n",
    "\n",
    "# We need the fractions\n",
    "res_e_x = [1.0 / x for x in res_edg_x]\n",
    "res_i_x = [1.0 / x for x in res_int_x]\n",
    "# Builds the plots.\n",
    "fig, ax = plt.subplots(1)\n",
    "ax.errorbar(res_a_x, res_edg_y, yerr=res_edg_err, marker='o', label='likes sampling')\n",
    "ax.errorbar(res_i_x, res_int_y, yerr=res_int_err, marker='o', label='item sampling')\n",
    "plt.ylim(0.45, 1.05)\n",
    "plt.xscale('log')\n",
    "plt.xlim(1/1200.0, 1/9.0)\n",
    "ax.legend()\n",
    "ax.grid()\n",
    "fig.suptitle('Accuracy vs. fraction of items in learning set, intersection dataset')\n",
    "plt.plot()\n",
    "plt.savefig('accuracy_like_sampling.pdf')"
   ]
  },
  {
   "cell_type": "code",
   "execution_count": null,
   "metadata": {},
   "outputs": [],
   "source": [
    "# First, we do the analysis of leave-one-page-out. \n",
    "reload(voting)\n",
    "frac_correct_all = [] # On complete graph\n",
    "frac_correct_w = []\n",
    "# First, for all. \n",
    "g = voting.VotingGraph()\n",
    "add_data(g, use_all=True)\n",
    "for pg in pages:\n",
    "    print \"page:\", pg\n",
    "    # Creates the function that classifies items.\n",
    "    def is_learning(itid):\n",
    "        return itid.split('_')[0] != pg\n",
    "    fc = g.evaluate_inference_given_learning(is_learning)\n",
    "    print \"For all, correctness:\", fc\n",
    "    frac_correct_all.append(fc)\n",
    "    frac_correct_w.append(posts_per_page[pg])\n",
    "print \"Final average correctness for leave-one-page-out all:\", np.average(frac_correct_all)\n",
    "print \"Standard deviation:\", np.std(frac_correct_all)\n"
   ]
  },
  {
   "cell_type": "code",
   "execution_count": null,
   "metadata": {},
   "outputs": [],
   "source": [
    "# We do the analysis of leave-one-page-out, also for the intersection dataset.\n",
    "reload(voting)\n",
    "frac_correct_all = [] # On complete graph\n",
    "frac_correct_w = []\n",
    "frac_correct_int = []\n",
    "# First, for all. \n",
    "g = voting.VotingGraph()\n",
    "add_data(g, use_all=False)\n",
    "for pg in pages:\n",
    "    print \"page:\", pg\n",
    "    # Creates the function that classifies items.\n",
    "    def is_learning(itid):\n",
    "        return itid.split('_')[0] != pg\n",
    "    fc = g.evaluate_inference_given_learning(is_learning)\n",
    "    print \"For all, correctness:\", fc\n",
    "    frac_correct_int.append(fc)\n",
    "    frac_correct_w.append(posts_per_page[pg])\n",
    "print \"Final average correctness for leave-one-page-out intersection:\", np.average(frac_correct_int, weights=frac_correct_w)\n"
   ]
  },
  {
   "cell_type": "code",
   "execution_count": null,
   "metadata": {},
   "outputs": [],
   "source": [
    "# Now, let's try to keep HALF of the pages out. \n",
    "# Now, we do the analysis in which we randomly select two \n",
    "# pages hoax and two non-hoax, and we learn from those alone.\n",
    "reload(voting)\n",
    "frac_correct_all_half = [] # On complete graph\n",
    "weights_correct_all_half = []\n",
    "fraction_pages = 0.5\n",
    "# First, for all. \n",
    "g = voting.VotingGraph()\n",
    "add_data(g, use_all=True)\n",
    "num_hoax_in = max(1, int(0.5 + len(hoax_pages) * fraction_pages))\n",
    "num_nonhoax_in = max(1, int(0.5 + len(nonhoax_pages) * fraction_pages))\n",
    "hoax_pages_l = list(hoax_pages)\n",
    "nonhoax_pages_l = list(nonhoax_pages)\n",
    "for _ in range(50):\n",
    "    # Picks pages in and out.\n",
    "    random.shuffle(hoax_pages_l)\n",
    "    random.shuffle(nonhoax_pages_l)\n",
    "    learn_pages = hoax_pages_l[:num_hoax_in] + nonhoax_pages_l[:num_nonhoax_in]\n",
    "    test_pages = hoax_pages_l[num_hoax_in:] + nonhoax_pages_l[num_nonhoax_in:]\n",
    "    # Computes the weight of the run.\n",
    "    num_learn_posts = np.sum([posts_per_page[p] for p in learn_pages])\n",
    "    num_test_posts = np.sum([posts_per_page[p] for p in test_pages])\n",
    "    w = num_learn_posts * num_test_posts\n",
    "    print \"N learn\", num_learn_posts, \"N test\", num_test_posts, \"w\", w\n",
    "    # Defines the function.\n",
    "    def is_learning(itid):\n",
    "        return itid.split('_')[0] in learn_pages\n",
    "    fc = g.evaluate_inference_given_learning(is_learning)\n",
    "    print \"Learning from 2 of each kind, all:\", fc\n",
    "    frac_correct_all_half.append(fc)\n",
    "    weights_correct_all_half.append(w)\n",
    "\n",
    "print \"Final average correctness for learning from half of each kind, all:\", np.average(frac_correct_all_half, weights=weights_correct_all_half)\n",
    "print \"avg\", np.average(frac_correct_all_half)\n",
    "print \"stdev\", np.std(frac_correct_all_half)\n",
    "\n"
   ]
  },
  {
   "cell_type": "code",
   "execution_count": null,
   "metadata": {},
   "outputs": [],
   "source": [
    "# Now, let's try to keep HALF of the pages out. \n",
    "# Now, we do the analysis in which we randomly select two \n",
    "# pages hoax and two non-hoax, and we learn from those alone.\n",
    "reload(voting)\n",
    "frac_correct_int_half = [] # On complete graph\n",
    "weights_correct_int_half = []\n",
    "fraction_pages = 0.5\n",
    "# First, for all. \n",
    "g = voting.VotingGraph()\n",
    "add_data(g, use_all=False)\n",
    "num_hoax_in = max(1, int(0.5 + len(hoax_pages) * fraction_pages))\n",
    "num_nonhoax_in = max(1, int(0.5 + len(nonhoax_pages) * fraction_pages))\n",
    "hoax_pages_l = list(hoax_pages)\n",
    "nonhoax_pages_l = list(nonhoax_pages)\n",
    "for _ in range(50):\n",
    "    # Picks pages in and out.\n",
    "    random.shuffle(hoax_pages_l)\n",
    "    random.shuffle(nonhoax_pages_l)\n",
    "    learn_pages = hoax_pages_l[:num_hoax_in] + nonhoax_pages_l[:num_nonhoax_in]\n",
    "    test_pages = hoax_pages_l[num_hoax_in:] + nonhoax_pages_l[num_nonhoax_in:]\n",
    "    # Computes the weight of the run.\n",
    "    num_learn_posts = np.sum([posts_per_page[p] for p in learn_pages])\n",
    "    num_test_posts = np.sum([posts_per_page[p] for p in test_pages])\n",
    "    w = num_learn_posts * num_test_posts\n",
    "    print \"N learn\", num_learn_posts, \"N test\", num_test_posts, \"w\", w\n",
    "    # Defines the function.\n",
    "    def is_learning(itid):\n",
    "        return itid.split('_')[0] in learn_pages\n",
    "    fc = g.evaluate_inference_given_learning(is_learning)\n",
    "    print \"Learning from half of each kind, all:\", fc\n",
    "    frac_correct_int_half.append(fc)\n",
    "    weights_correct_int_half.append(w)\n",
    "print \"Final average correctness for learning from half of each kind, intersection:\", np.average(frac_correct_int_half, weights=weights_correct_int_half)\n",
    "print \"avg\", np.average(frac_correct_int_half)\n",
    "print \"stdev\", np.std(frac_correct_int_half)\n"
   ]
  },
  {
   "cell_type": "code",
   "execution_count": null,
   "metadata": {},
   "outputs": [],
   "source": []
  },
  {
   "cell_type": "code",
   "execution_count": null,
   "metadata": {},
   "outputs": [],
   "source": []
  },
  {
   "cell_type": "code",
   "execution_count": null,
   "metadata": {},
   "outputs": [],
   "source": []
  },
  {
   "cell_type": "code",
   "execution_count": null,
   "metadata": {},
   "outputs": [],
   "source": []
  }
 ],
 "metadata": {
  "anaconda-cloud": {},
  "kernelspec": {
   "display_name": "Python 2",
   "language": "python",
   "name": "python2"
  },
  "language_info": {
   "codemirror_mode": {
    "name": "ipython",
    "version": 2
   },
   "file_extension": ".py",
   "mimetype": "text/x-python",
   "name": "python",
   "nbconvert_exporter": "python",
   "pygments_lexer": "ipython2",
   "version": "2.7.18"
  }
 },
 "nbformat": 4,
 "nbformat_minor": 1
}
