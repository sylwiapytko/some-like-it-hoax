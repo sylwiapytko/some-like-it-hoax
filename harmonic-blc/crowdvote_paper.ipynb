{
 "cells": [
  {
   "cell_type": "markdown",
   "metadata": {
    "collapsed": true
   },
   "source": []
  },
  {
   "cell_type": "code",
   "execution_count": 1,
   "metadata": {},
   "outputs": [],
   "source": [
    "# Analysis of Facebook likes using \"harmonic\" crowdsourcing algorithm.\n",
    "# This is an analysis performed entirely on the users who have liked both good and bad items; \n",
    "# this intersection forms the hardest \"core\" of the problem."
   ]
  },
  {
   "cell_type": "code",
   "execution_count": 2,
   "metadata": {},
   "outputs": [],
   "source": [
    "%matplotlib inline\n",
    "# import json_plus\n",
    "import json\n",
    "import numpy as np\n",
    "import matplotlib.pyplot as plt\n",
    "import random\n",
    "import voting\n",
    "import matplotlib"
   ]
  },
  {
   "cell_type": "code",
   "execution_count": 3,
   "metadata": {},
   "outputs": [],
   "source": [
    "# Set figure size.\n",
    "matplotlib.rcParams['figure.figsize'] = (4.0, 2.0)\n",
    "matplotlib.rcParams['errorbar.capsize'] = 5\n",
    "params = {'legend.fontsize': 'x-large',\n",
    "         'axes.labelsize': 'x-large',\n",
    "         'axes.titlesize':'x-large',\n",
    "         'xtick.labelsize':'x-large',\n",
    "         'ytick.labelsize':'x-large'}\n",
    "matplotlib.rcParams.update(params)\n",
    "plt.rc('text', usetex=True)\n",
    "# plt.rc('font', family='serif')\n"
   ]
  },
  {
   "cell_type": "code",
   "execution_count": 4,
   "metadata": {},
   "outputs": [
    {
     "name": "stdout",
     "output_type": "stream",
     "text": [
      "Loaded.\n"
     ]
    }
   ],
   "source": [
    "# Data loading\n",
    "with open('../dataset/retweeters.json') as data_file:\n",
    "    data = json.load(data_file)\n",
    "print(\"Loaded.\")"
   ]
  },
  {
   "cell_type": "code",
   "execution_count": 5,
   "metadata": {},
   "outputs": [
    {
     "name": "stdout",
     "output_type": "stream",
     "text": [
      "N. of posts: 15727\n",
      "N. of likes 98782\n",
      "N. of unique users: 11496\n",
      "Avg. likes per user: 8.00\n",
      "Avg. likes per post: 6.00\n"
     ]
    }
   ],
   "source": [
    "# Counts\n",
    "post_list = [i for i in data.keys()]\n",
    "user_list = []\n",
    "for i in data.values():\n",
    "    user_list.extend(i)\n",
    "user_set = set(user_list)\n",
    "nlikes = len(user_list)\n",
    "nuser = len(user_set)\n",
    "nposts = len(data)\n",
    "print('N. of posts: %s' % nposts)\n",
    "print('N. of likes %d' % nlikes)\n",
    "print('N. of unique users: %s' % nuser)\n",
    "print('Avg. likes per user: %.2f' % (nlikes/nuser))\n",
    "print('Avg. likes per post: %.2f' % (nlikes/nposts))"
   ]
  },
  {
   "cell_type": "code",
   "execution_count": 6,
   "metadata": {},
   "outputs": [
    {
     "name": "stdout",
     "output_type": "stream",
     "text": [
      "N. of pages: 9 hoax vs. 14 non-hoax\n",
      "Hoax pages: set(['1359279284', '241488377', '1073461458', '930919729254010885', '2863515755', '844805327254011905', '88763077', '864116008910548992', '1045260886997430272'])\n",
      "Nonhoax pages: set([u'469251331', u'581793998', u'47295451', u'19179390', u'1901341021', u'37664893', u'86058123', u'831151718', u'194399035', u'493172275', u'39480709', u'86022744', u'14493047', u'562800078'])\n"
     ]
    }
   ],
   "source": [
    "# Hoax pages\n",
    "pages = set([i.split('_')[0] for i in post_list])\n",
    "# WARNING: commented out pages DO NOT EXIST.\n",
    "hoax_pages = {'844805327254011905','241488377','1359279284','1073461458','864116008910548992','2863515755','1045260886997430272','88763077','930919729254010885'}\n",
    "nonhoax_pages = pages - hoax_pages\n",
    "error_pages = hoax_pages - pages\n",
    "if len(error_pages) > 0:\n",
    "    print \"Error: some hoax pages never appear:\", error_pages\n",
    "print(\"N. of pages: %d hoax vs. %d non-hoax\" % (len(hoax_pages), len(nonhoax_pages)))\n",
    "print \"Hoax pages:\", hoax_pages\n",
    "print \"Nonhoax pages:\", nonhoax_pages"
   ]
  },
  {
   "cell_type": "code",
   "execution_count": 7,
   "metadata": {},
   "outputs": [
    {
     "name": "stdout",
     "output_type": "stream",
     "text": [
      "N. of posts: 5698 hoax vs. 10029 non-hoax\n"
     ]
    }
   ],
   "source": [
    "# Hoax post categorization\n",
    "hoax_posts = {x for x in data if x.split('_')[0] in hoax_pages}\n",
    "print(\"N. of posts: %d hoax vs. %d non-hoax\" % (len(hoax_posts), nposts-len(hoax_posts)))"
   ]
  },
  {
   "cell_type": "code",
   "execution_count": 8,
   "metadata": {},
   "outputs": [
    {
     "name": "stdout",
     "output_type": "stream",
     "text": [
      "{u'581793998': 985.0, u'241488377': 668.0, u'930919729254010885': 1740.0, u'864116008910548992': 212.0, u'39480709': 544.0, u'37664893': 58.0, u'1901341021': 292.0, u'562800078': 869.0, u'86058123': 127.0, u'831151718': 417.0, u'2863515755': 71.0, u'194399035': 1674.0, u'844805327254011905': 253.0, u'1359279284': 2.0, u'469251331': 305.0, u'47295451': 2170.0, u'19179390': 444.0, u'493172275': 63.0, u'88763077': 99.0, u'1045260886997430272': 154.0, u'1073461458': 2499.0, u'14493047': 1753.0, u'86022744': 328.0}\n"
     ]
    }
   ],
   "source": [
    "# Computes the number of posts per each page.\n",
    "posts_per_page = {}\n",
    "for p, ul in data.items():\n",
    "    page = p.split('_')[0]\n",
    "    posts_per_page[page] = posts_per_page.get(page, 0.0) + 1.0\n",
    "print posts_per_page"
   ]
  },
  {
   "cell_type": "code",
   "execution_count": 9,
   "metadata": {},
   "outputs": [],
   "source": [
    "def graph_correct(d):\n",
    "    \"\"\"Makes a graph of the correctness as a function of number of likes.\"\"\"\n",
    "    print \"Accuracy overall:\", d['ratio_correct']\n",
    "    # Now for the graph. \n",
    "    ys = d['ratio_correct_likes']\n",
    "    xs = range(1, 1 + len(ys))\n",
    "    plt.plot(xs, ys, 'bo')\n",
    "    plt.xlabel('Number of likes')\n",
    "    plt.ylabel('Fraction correct')\n",
    "    plt.ylim(ymax=1.01)\n",
    "    plt.show()"
   ]
  },
  {
   "cell_type": "code",
   "execution_count": 10,
   "metadata": {},
   "outputs": [
    {
     "name": "stdout",
     "output_type": "stream",
     "text": [
      "Number of user who liked both type of pages: 2167\n"
     ]
    }
   ],
   "source": [
    "# Now let's compute the set of users who have voted for BOTH good and bad items. \n",
    "hoax_users = set()\n",
    "nonhoax_users = set()\n",
    "for p, ul in data.items():\n",
    "    page = p.split('_')[0]\n",
    "    # The truth value depends on the page.\n",
    "    tv = not (page in hoax_pages)\n",
    "    if tv:\n",
    "        nonhoax_users.update(ul)\n",
    "    else:\n",
    "        hoax_users.update(ul)\n",
    "users_liked_both = hoax_users & nonhoax_users\n",
    "print \"Number of user who liked both type of pages:\", len(users_liked_both)\n",
    "    "
   ]
  },
  {
   "cell_type": "code",
   "execution_count": 11,
   "metadata": {},
   "outputs": [
    {
     "name": "stdout",
     "output_type": "stream",
     "text": [
      "Number of users in intersection dataset with cardinality 2: 283\n"
     ]
    }
   ],
   "source": [
    "# I want to know, how many of the users above have voted for ONLY two pages.\n",
    "user_cardinality = {}\n",
    "for p, ul in data.items():\n",
    "    for u in ul:\n",
    "        if u in users_liked_both:\n",
    "            user_cardinality[u] = 1 + user_cardinality.get(u, 0)\n",
    "num_with_card_2 = 0\n",
    "for u, c in user_cardinality.items():\n",
    "    if c == 2:\n",
    "        num_with_card_2 += 1\n",
    "print \"Number of users in intersection dataset with cardinality 2:\", num_with_card_2"
   ]
  },
  {
   "cell_type": "code",
   "execution_count": 12,
   "metadata": {},
   "outputs": [
    {
     "name": "stdout",
     "output_type": "stream",
     "text": [
      "Numner of users who liked more than one page: 6201\n"
     ]
    }
   ],
   "source": [
    "# Let's compute the set of users who have voted for more than one page.\n",
    "pages_user = {}\n",
    "for p, ul in data.items():\n",
    "    page = p.split('_')[0]\n",
    "    for u in ul:\n",
    "        pages_user[u] = pages_user.get(u, set()) | {p}\n",
    "multi_page_users = set([u for u, ps in pages_user.items() if len(ps) > 1])\n",
    "print \"Numner of users who liked more than one page:\", len(multi_page_users)"
   ]
  },
  {
   "cell_type": "code",
   "execution_count": 13,
   "metadata": {},
   "outputs": [],
   "source": [
    "# Run this code AFTER computing the set of hoax users above.\n",
    "def add_data(g, use_all=False, use_atleast_two=False):\n",
    "    \"\"\"Adds the data to a graph g.\n",
    "    If use_all is True, it uses all data; otherwise it uses data only from the intersection dataset.\"\"\"\n",
    "    for p, ul in data.items():\n",
    "        page = p.split('_')[0]\n",
    "        # The truth value depends on the page.\n",
    "        tv = not (page in hoax_pages)\n",
    "        for u in ul:\n",
    "            # The polarity is always 1 (pos).\n",
    "            if use_all or (u in users_liked_both) or (use_atleast_two and u in multi_page_users):\n",
    "                g.add_edge(u, p, item_true_value=tv)\n",
    "    print(\"The graph has been built!\")"
   ]
  },
  {
   "cell_type": "code",
   "execution_count": 14,
   "metadata": {},
   "outputs": [
    {
     "name": "stdout",
     "output_type": "stream",
     "text": [
      "The graph has been built!\n",
      "Num items: 12562\n",
      "Num items with truth known: 12562\n",
      "Num items with inferred known: 0\n",
      "Num items testing: 0\n",
      "Min degree: 1\n",
      "Num users: 2167\n",
      "Num likes: 54938\n"
     ]
    }
   ],
   "source": [
    "# Let's get some stats.\n",
    "reload(voting)\n",
    "g = voting.VotingGraph()\n",
    "add_data(g)\n",
    "g.print_stats()"
   ]
  },
  {
   "cell_type": "code",
   "execution_count": 15,
   "metadata": {},
   "outputs": [
    {
     "name": "stdout",
     "output_type": "stream",
     "text": [
      "The graph has been built!\n",
      "Num items: 15649\n",
      "Num items with truth known: 15649\n",
      "Num items with inferred known: 0\n",
      "Num items testing: 0\n",
      "Min degree: 1\n",
      "Num users: 11496\n",
      "Num likes: 98782\n"
     ]
    }
   ],
   "source": [
    "# Let's get some stats.\n",
    "reload(voting)\n",
    "g = voting.VotingGraph()\n",
    "add_data(g, use_all=True)\n",
    "g.print_stats()"
   ]
  },
  {
   "cell_type": "code",
   "execution_count": 16,
   "metadata": {},
   "outputs": [
    {
     "name": "stdout",
     "output_type": "stream",
     "text": [
      "The graph has been built!\n",
      "2 0.926722044728\n",
      "2 0.925891373802\n",
      "2 0.926819169329\n",
      "2 0.926808945687\n",
      "2 0.926819169329\n"
     ]
    }
   ],
   "source": [
    "# 5 fold validation\n",
    "reload(voting)\n",
    "TESTS = [ 2, 2, 2, 2, 2]\n",
    "results_all_x = []\n",
    "results_all_y = []\n",
    "results_all_err = []\n",
    "g = voting.VotingGraph()\n",
    "add_data(g, use_all=True)\n",
    "for f in TESTS:\n",
    "    d = g.evaluate_inference(fraction=f)\n",
    "    print f, d['ratio_correct']\n",
    "    results_all_x.append(f)\n",
    "    results_all_y.append(d['ratio_correct'])\n",
    "    results_all_err.append(d['stdev'])"
   ]
  },
  {
   "cell_type": "code",
   "execution_count": 17,
   "metadata": {},
   "outputs": [
    {
     "name": "stdout",
     "output_type": "stream",
     "text": [
      "res_all_y = 0.9266121405750798\n",
      "res_all_err = 0.002510250207789704\n"
     ]
    }
   ],
   "source": [
    "res_all_y = np.mean(results_all_y) \n",
    "print('res_all_y = %s' % str(res_all_y))\n",
    "\n",
    "res_all_err = np.mean(results_all_err)\n",
    "print('res_all_err = %s' % str(res_all_err))"
   ]
  },
  {
   "cell_type": "code",
   "execution_count": 18,
   "metadata": {},
   "outputs": [
    {
     "name": "stdout",
     "output_type": "stream",
     "text": [
      "The graph has been built!\n",
      "2 0.887412832352\n",
      "2 0.887234516797\n",
      "2 0.88649259672\n",
      "2 0.886846043624\n",
      "2 0.886750517434\n"
     ]
    }
   ],
   "source": [
    "# 5 fold validation  -  Now for the intersection dataset.\n",
    "reload(voting)\n",
    "results_intersection_x = []\n",
    "results_intersection_y = []\n",
    "results_intersection_err = []\n",
    "TESTS = [ 2, 2,2,2,2]\n",
    "g = voting.VotingGraph()\n",
    "add_data(g, use_all=False)\n",
    "for f in TESTS:\n",
    "    d = g.evaluate_inference(fraction=f)\n",
    "    print f, d['ratio_correct']\n",
    "    results_intersection_x.append(f)\n",
    "    results_intersection_y.append(d['ratio_correct'])\n",
    "    results_intersection_err.append(d['stdev'])"
   ]
  },
  {
   "cell_type": "code",
   "execution_count": 19,
   "metadata": {},
   "outputs": [
    {
     "name": "stdout",
     "output_type": "stream",
     "text": [
      "res_all_y = 0.8869473013851298\n",
      "res_all_err = 0.0037495447357492676\n"
     ]
    }
   ],
   "source": [
    "res_all_y = np.mean(results_intersection_y) \n",
    "print('res_all_y = %s' % str(res_all_y))\n",
    "\n",
    "res_all_err = np.mean(results_intersection_err)\n",
    "print('res_all_err = %s' % str(res_all_err))"
   ]
  },
  {
   "cell_type": "code",
   "execution_count": 20,
   "metadata": {},
   "outputs": [
    {
     "name": "stdout",
     "output_type": "stream",
     "text": [
      "The graph has been built!\n",
      "2 0.927067092652\n",
      "5 0.917335463259\n",
      "10 0.902571529996\n",
      "20 0.870093495662\n",
      "50 0.808709656387\n",
      "100 0.793753307946\n",
      "200 0.783977907649\n",
      "400 0.764608584241\n"
     ]
    }
   ],
   "source": [
    "reload(voting)\n",
    "TESTS = [ 2, 5, 10, 20, 50, 100, 200, 400]\n",
    "results_all_x = []\n",
    "results_all_y = []\n",
    "results_all_err = []\n",
    "g = voting.VotingGraph()\n",
    "add_data(g, use_all=True)\n",
    "for f in TESTS:\n",
    "    d = g.evaluate_inference(fraction=f)\n",
    "    print f, d['ratio_correct']\n",
    "    results_all_x.append(f)\n",
    "    results_all_y.append(d['ratio_correct'])\n",
    "    results_all_err.append(d['stdev'])"
   ]
  },
  {
   "cell_type": "code",
   "execution_count": 21,
   "metadata": {},
   "outputs": [
    {
     "name": "stdout",
     "output_type": "stream",
     "text": [
      "results_all_x =  [2, 5, 10, 20, 50, 100, 200, 400]\n",
      "results_all_y =  [0.9270670926517572, 0.9173354632587859, 0.9025715299964501, 0.8700934956615323, 0.8087096563865163, 0.7937533079455238, 0.7839779076488343, 0.7646085842408712]\n",
      "results_all_err =  [0.002537087236280977, 0.002620049860289266, 0.016227653016146353, 0.04325539281513802, 0.062297758366808106, 0.05849285288584566, 0.059860845396173236, 0.04988853096805381]\n"
     ]
    }
   ],
   "source": [
    "print \"results_all_x = \", results_all_x\n",
    "print \"results_all_y = \", results_all_y\n",
    "print \"results_all_err = \", results_all_err"
   ]
  },
  {
   "cell_type": "code",
   "execution_count": 22,
   "metadata": {},
   "outputs": [
    {
     "name": "stdout",
     "output_type": "stream",
     "text": [
      "The graph has been built!\n",
      "2 0.886581754498\n",
      "5 0.874762189055\n",
      "10 0.856177251017\n",
      "20 0.802446790682\n",
      "50 0.756040938998\n",
      "100 0.666220149554\n",
      "200 0.6340576\n",
      "400 0.585696273242\n"
     ]
    }
   ],
   "source": [
    "# Now for the intersection dataset.\n",
    "reload(voting)\n",
    "results_intersection_x = []\n",
    "results_intersection_y = []\n",
    "results_intersection_err = []\n",
    "TESTS = [ 2, 5, 10, 20, 50, 100, 200, 400]\n",
    "g = voting.VotingGraph()\n",
    "add_data(g, use_all=False)\n",
    "for f in TESTS:\n",
    "    d = g.evaluate_inference(fraction=f)\n",
    "    print f, d['ratio_correct']\n",
    "    results_intersection_x.append(f)\n",
    "    results_intersection_y.append(d['ratio_correct'])\n",
    "    results_intersection_err.append(d['stdev'])"
   ]
  },
  {
   "cell_type": "code",
   "execution_count": 23,
   "metadata": {},
   "outputs": [
    {
     "name": "stdout",
     "output_type": "stream",
     "text": [
      "results_intersection_x =  [2, 5, 10, 20, 50, 100, 200, 400]\n",
      "results_intersection_y =  [0.8865817544976915, 0.8747621890547264, 0.856177251017159, 0.8024467906820848, 0.7560409389976444, 0.6662201495537509, 0.6340576, 0.585696273242359]\n",
      "results_intersection_err =  [0.0035068059191632694, 0.004378505635624781, 0.019382167918179323, 0.08255152284871932, 0.10880566560745943, 0.13270085427353973, 0.13651829806381266, 0.1376429217689499]\n"
     ]
    }
   ],
   "source": [
    "print \"results_intersection_x = \", results_intersection_x\n",
    "print \"results_intersection_y = \", results_intersection_y\n",
    "print \"results_intersection_err = \", results_intersection_err"
   ]
  },
  {
   "cell_type": "code",
   "execution_count": 24,
   "metadata": {},
   "outputs": [
    {
     "data": {
      "image/png": "[encoded data removed]",
      "text/plain": [
       "<Figure size 720x432 with 1 Axes>"
      ]
     },
     "metadata": {
      "needs_background": "light"
     },
     "output_type": "display_data"
    }
   ],
   "source": [
    "# Let's generate the graphs, without having to re-run everything.\n",
    "import matplotlib\n",
    "matplotlib.rcParams['figure.figsize'] = (10.0, 6.0)\n",
    "res_all_x = results_all_x\n",
    "res_all_y = results_all_y\n",
    "res_all_err = results_all_err\n",
    "res_int_x = results_intersection_x\n",
    "res_int_y = results_intersection_y\n",
    "res_int_err = results_intersection_err\n",
    "# Results of Some Like It Hoax oryginal\n",
    "# res_all_x = [10, 20, 40, 100, 200, 400, 1000]\n",
    "# res_all_y = [0.9947928315412187, 0.9945765704584041, 0.9944259908687885, 0.9942717497556207, 0.9941477014847955, 0.9369124304747122, 0.7925489183080401]\n",
    "# res_all_err = [0.00018177945073084267, 0.0001663545936217604, 0.0001440948332039384, 9.8616786904011806e-05, 8.3849643572967626e-05, 0.081584186225229241, 0.15831802229801958]\n",
    "# res_int_x = [10, 20, 40, 100, 200, 400, 1000]\n",
    "# res_int_y = [0.8981516687790452, 0.8505363217930758, 0.8258925611777322, 0.744059529524724, 0.6773977837218189, 0.5783037926434152, 0.519162702188392]\n",
    "# res_int_err = [0.015822423827105362, 0.038183501343605319, 0.06444397351136516, 0.10609695794657316, 0.13381654475491597, 0.12521980663556254, 0.1100818925571475]\n",
    "\n",
    "# res_gt2_x = [10, 20, 50, 100, 200, 400, 1000]\n",
    "# res_gt2_y = [0.9973278594065111, 0.9970522006141249, 0.9968679719539622, 0.9968190151911995, 0.9925245944361196, 0.9633779568494931, 0.8052144572058919]\n",
    "# res_gt2_err = [0.00014918118105160575, 0.00017208488861027103, 9.1833862792139789e-05, 8.3946414408233029e-05, 0.020896853639959776, 0.065442264421548352, 0.16442557191302057]\n",
    "\n",
    "# We need the fractions\n",
    "res_a_x = [1.0 / x for x in res_all_x]\n",
    "res_i_x = [1.0 / x for x in res_int_x]\n",
    "# res_a_x = [x * nposts for x in res_a_x]\n",
    "# Builds the plots.\n",
    "fig, ax = plt.subplots(1)\n",
    "ax.errorbar(res_a_x, res_all_y, yerr=res_all_err, marker='o', label='complete dataset')\n",
    "# ax.errorbar(res_a_x, res_gt2_y, yerr=res_gt2_err, marker='x', label='multipage dataset')\n",
    "ax.errorbar(res_a_x, res_int_y, yerr=res_int_err, marker='+', label='intersection dataset')\n",
    "plt.ylim(0.45, 1.05)\n",
    "plt.xscale('log')\n",
    "plt.xlim(1/1200.0, 1/1.0)\n",
    "ax.legend()\n",
    "ax.grid()\n",
    "plt.title('Accuracy vs. number of items in learning set')\n",
    "plt.plot()\n",
    "plt.savefig('accuracy_vs_perc.pdf')"
   ]
  },
  {
   "cell_type": "code",
   "execution_count": 33,
   "metadata": {},
   "outputs": [],
   "source": [
    "# Let's define the results from the other notebook on logistic regression.\n",
    "# See ../logistic_regression/logreg_tests_final.ipynb \n",
    "\n",
    "# Results of Some Like It Hoax oryginal\n",
    "# logi_res_all_y = [0.96669677419354827, 0.95533989813242781, 0.93099144173798531, 0.90329749103942636, 0.84348699993516163, 0.74553227266847766, 0.63488149822408779]\n",
    "# logi_res_all_err = [0.0055568473928726322, 0.0096648261910718368, 0.019235373404428768, 0.038534806597708672, 0.059711620024988706, 0.086215312070645644, 0.11551090232666143]\n",
    "# logi_res_int_y = [0.91654203633291076, 0.89193315989593758, 0.84144907856450035, 0.77512049927988469, 0.70986052732136029, 0.63810367829235748, 0.56102949571836336]\n",
    "# logi_res_int_err = [0.0077756103084875598, 0.013865324498876704, 0.029058334540871818, 0.047490066556372029, 0.05720552897645028, 0.060875349450386827, 0.054692571945068366]\n",
    "# Mine\n",
    "logi_res_all_y = [0.9345701932858597, 0.9259831505325069, 0.9167205934298833, 0.9068228364901947, 0.8884720690326346, 0.8723185613359025, 0.8514371525337081, 0.808389852116267]\n",
    "logi_res_all_err = [0.0024486757316576385, 0.0022813016837548348, 0.002515714363507264, 0.004475572764453983, 0.009863661481339969, 0.01238009548686527, 0.02237856910107369, 0.06698978242554172]\n",
    "logi_res_int_y = [0.9111224327336411, 0.9011741293532336, 0.8928586591190519, 0.8821032344561758, 0.8647940865892292, 0.8415100104526814, 0.8160160000000001, 0.7612034155294869]\n",
    "logi_res_int_err = [0.002941655225596091, 0.002820259301581182, 0.004184118937850038, 0.004491790962440057, 0.010124917748065357, 0.017503170546246616, 0.02282316857931869, 0.056907337639747875]"
   ]
  },
  {
   "cell_type": "code",
   "execution_count": null,
   "metadata": {},
   "outputs": [],
   "source": []
  },
  {
   "cell_type": "code",
   "execution_count": 34,
   "metadata": {},
   "outputs": [
    {
     "data": {
      "image/png": "[encoded data removed]",
      "text/plain": [
       "<Figure size 432x288 with 1 Axes>"
      ]
     },
     "metadata": {
      "needs_background": "light"
     },
     "output_type": "display_data"
    }
   ],
   "source": [
    "# Let us now plot the results, on the same dataset, of logistic and harmonic.\n",
    "fig, ax = plt.subplots(figsize=(6, 4))\n",
    "ax.errorbar(res_a_x, logi_res_all_y, yerr=logi_res_all_err, marker='s', label='logistic regression')\n",
    "ax.errorbar(res_a_x, res_all_y, yerr=res_all_err, marker='o', label='harmonic algorithm')\n",
    "plt.ylim(0.45, 1.05)\n",
    "plt.xscale('log')\n",
    "plt.xlim(1/1200.0, 1/1.0)\n",
    "ax.legend()\n",
    "ax.grid()\n",
    "plt.xlabel('Fraction of items in training set')\n",
    "plt.ylabel('Accuracy')\n",
    "plt.title('Accuracy vs. fraction of items in learning set,\\ncomplete dataset')\n",
    "plt.plot()\n",
    "plt.savefig('accuracy_vs_fraction_all_s.pdf', bbox_inches='tight')"
   ]
  },
  {
   "cell_type": "code",
   "execution_count": null,
   "metadata": {},
   "outputs": [],
   "source": []
  },
  {
   "cell_type": "code",
   "execution_count": 35,
   "metadata": {},
   "outputs": [
    {
     "data": {
      "image/png": "[encoded data removed]",
      "text/plain": [
       "<Figure size 756x432 with 1 Axes>"
      ]
     },
     "metadata": {
      "needs_background": "light"
     },
     "output_type": "display_data"
    }
   ],
   "source": [
    "# Let us now plot the results, on the same dataset, of logistic and harmonic.\n",
    "\n",
    "fig, ax = plt.subplots(figsize=(10.5, 6))\n",
    "ax.errorbar(res_a_x, logi_res_all_y, yerr=logi_res_all_err, marker='s', label='Regresja logistyczna')\n",
    "ax.errorbar(res_a_x, res_all_y, yerr=res_all_err, marker='o', label='Algorytm harmoniczny')\n",
    "plt.ylim(0.65, 1.05)\n",
    "plt.xscale('log')\n",
    "plt.xlim(1/1200.0, 1/1.0)\n",
    "ax.legend()\n",
    "ax.grid()\n",
    "plt.xlabel('Stosunek rozmiaru zbioru uczacego do calego zbioru pelnego')\n",
    "plt.ylabel('Precyzja')\n",
    "# plt.title('Precyzja a wielkosc zbioru uczacego dla zbioru pelnego')\n",
    "plt.plot()\n",
    "plt.savefig('accuracy_vs_fraction_all_b.pdf', bbox_inches='tight')"
   ]
  },
  {
   "cell_type": "code",
   "execution_count": 36,
   "metadata": {},
   "outputs": [
    {
     "data": {
      "image/png": "[encoded data removed]",
      "text/plain": [
       "<Figure size 432x288 with 1 Axes>"
      ]
     },
     "metadata": {
      "needs_background": "light"
     },
     "output_type": "display_data"
    }
   ],
   "source": [
    "# Now the same, but for the intersection dataset.\n",
    "fig, ax = plt.subplots(figsize=(6,4))\n",
    "ax.errorbar(res_a_x, logi_res_int_y, yerr=logi_res_int_err, marker='s', label='logistic regression')\n",
    "ax.errorbar(res_a_x, res_int_y, yerr=res_int_err, marker='o', label='harmonic algorithm')\n",
    "plt.ylim(0.45, 1.05)\n",
    "plt.xscale('log')\n",
    "plt.xlim(1/1200.0, 1/3.0)\n",
    "ax.legend()\n",
    "plt.xlabel('Fraction of items in training set')\n",
    "plt.ylabel('Accuracy')\n",
    "ax.grid()\n",
    "plt.title('Accuracy vs. fraction of items in learning set,\\n intersection dataset')\n",
    "plt.plot()\n",
    "plt.savefig('accuracy_vs_fraction_int_s.pdf', bbox_inches='tight')"
   ]
  },
  {
   "cell_type": "code",
   "execution_count": 37,
   "metadata": {},
   "outputs": [
    {
     "data": {
      "text/plain": [
       "[0.5, 0.2, 0.1, 0.05, 0.02, 0.01, 0.005, 0.0025]"
      ]
     },
     "execution_count": 37,
     "metadata": {},
     "output_type": "execute_result"
    }
   ],
   "source": [
    "res_a_x"
   ]
  },
  {
   "cell_type": "code",
   "execution_count": 38,
   "metadata": {},
   "outputs": [
    {
     "data": {
      "image/png": "[encoded data removed]",
      "text/plain": [
       "<Figure size 756x432 with 1 Axes>"
      ]
     },
     "metadata": {
      "needs_background": "light"
     },
     "output_type": "display_data"
    }
   ],
   "source": [
    "# Now the same, but for the intersection dataset.\n",
    "fig, ax = plt.subplots(figsize=(10.5, 6))\n",
    "# res_a_x = [12562.0, 6281.0, 2512.0, 1256.0, 628.0, 251.0, 125.0, 62.0, 31.0]\n",
    "ax.errorbar(res_a_x, logi_res_int_y, yerr=logi_res_int_err, marker='s', label='Regresja logistyczna')\n",
    "ax.errorbar(res_a_x, res_int_y, yerr=res_int_err, marker='o', label='Algorytm harmoniczny')\n",
    "plt.ylim(0.35, 1.05)\n",
    "plt.xscale('log')\n",
    "plt.xlim(1/1200.0, 1/1.0)\n",
    "ax.legend()\n",
    "plt.xlabel('Stosunek wielkosci zbioru uczacego do calego zbioru intersekcji')\n",
    "plt.ylabel('Precyzja')\n",
    "ax.grid()\n",
    "# plt.title('Precyzja vs. wielkosc zbioru uczacego dla zbioru intersekcji')\n",
    "plt.plot()\n",
    "plt.savefig('accuracy_vs_fraction_int_b.pdf', bbox_inches='tight')"
   ]
  },
  {
   "cell_type": "code",
   "execution_count": null,
   "metadata": {},
   "outputs": [],
   "source": []
  },
  {
   "cell_type": "code",
   "execution_count": 30,
   "metadata": {},
   "outputs": [
    {
     "data": {
      "image/png": "[encoded data removed]",
      "text/plain": [
       "<Figure size 1440x720 with 1 Axes>"
      ]
     },
     "metadata": {
      "needs_background": "light"
     },
     "output_type": "display_data"
    }
   ],
   "source": [
    "# We can also produce all four in the same graph, in case we lack space.\n",
    "fig, ax = plt.subplots(figsize=(20,10))\n",
    "ax.errorbar(res_a_x, res_all_y, yerr=res_all_err, marker='o', label='Harmonic algorithm, complete dataset')\n",
    "ax.errorbar(res_a_x, logi_res_all_y, yerr=logi_res_all_err, marker='s', ls='--', label='Logistic regression, complete dataset')\n",
    "ax.errorbar(res_a_x, res_int_y, yerr=res_int_err, marker='^', ls='-.', label='Harmonic algorithm, intersection dataset')\n",
    "ax.errorbar(res_a_x, logi_res_int_y, yerr=logi_res_int_err, marker='v', ls=':', label='Logistic regression, intersection dataset')\n",
    "plt.ylim(0.35, 1.05)\n",
    "plt.xscale('log')\n",
    "plt.xlabel('Fraction of items in training set')\n",
    "plt.ylabel('Accuracy')\n",
    "ax.legend()\n",
    "ax.grid()\n",
    "plt.plot()\n",
    "plt.savefig('accuracy_vs_fraction_joint.pdf', bbox_inches='tight')"
   ]
  },
  {
   "cell_type": "code",
   "execution_count": 31,
   "metadata": {},
   "outputs": [
    {
     "name": "stdout",
     "output_type": "stream",
     "text": [
      "The graph has been built!\n",
      "results_all_edges_x =  [10, 20, 50, 100, 200, 400, 1000]\n",
      "results_all_edges_y =  [0.8992686736722522, 0.889661666778772, 0.8727164840897236, 0.8354766668818177, 0.8141493802581722, 0.7831005765534914, 0.7545896500991494]\n",
      "results_all_edges_err =  [0.0026926824245323317, 0.005510893812927592, 0.014759040677305529, 0.053164080451607074, 0.0566357676842046, 0.05915675803830008, 0.06946712482714722]\n"
     ]
    }
   ],
   "source": [
    "# Now we do the same as above, BUT resampling so that we sample each item\n",
    "# with probability proportional to the number of likes.\n",
    "reload(voting)\n",
    "TESTS = [(10, 50), (20, 50), (50, 50), (100, 50), (200, 50), (400, 50), (1000, 50)]\n",
    "results_all_edges_x = []\n",
    "results_all_edges_y = []\n",
    "results_all_edges_err = []\n",
    "g = voting.VotingGraph()\n",
    "add_data(g, use_all=True)\n",
    "for num_chunks, num_eval_chunks in TESTS:\n",
    "    cs = []\n",
    "    for i in range(num_eval_chunks):\n",
    "        cs.append(g.evaluate_inference_selecting_prop_likes(1.0 / num_chunks))\n",
    "    results_all_edges_x.append(num_chunks)\n",
    "    results_all_edges_y.append(np.average(cs))\n",
    "    results_all_edges_err.append(np.std(cs))\n",
    "print \"results_all_edges_x = \", results_all_edges_x\n",
    "print \"results_all_edges_y = \", results_all_edges_y\n",
    "print \"results_all_edges_err = \",  results_all_edges_err\n",
    "        "
   ]
  },
  {
   "cell_type": "code",
   "execution_count": 32,
   "metadata": {},
   "outputs": [
    {
     "ename": "ValueError",
     "evalue": "shape mismatch: objects cannot be broadcast to a single shape",
     "output_type": "error",
     "traceback": [
      "\u001b[1;31m\u001b[0m",
      "\u001b[1;31mValueError\u001b[0mTraceback (most recent call last)",
      "\u001b[1;32m<ipython-input-32-5dc6a5894d0a>\u001b[0m in \u001b[0;36m<module>\u001b[1;34m()\u001b[0m\n\u001b[0;32m     16\u001b[0m \u001b[1;31m# Builds the plots.\u001b[0m\u001b[1;33m\u001b[0m\u001b[1;33m\u001b[0m\u001b[0m\n\u001b[0;32m     17\u001b[0m \u001b[0mfig\u001b[0m\u001b[1;33m,\u001b[0m \u001b[0max\u001b[0m \u001b[1;33m=\u001b[0m \u001b[0mplt\u001b[0m\u001b[1;33m.\u001b[0m\u001b[0msubplots\u001b[0m\u001b[1;33m(\u001b[0m\u001b[1;36m1\u001b[0m\u001b[1;33m)\u001b[0m\u001b[1;33m\u001b[0m\u001b[0m\n\u001b[1;32m---> 18\u001b[1;33m \u001b[0max\u001b[0m\u001b[1;33m.\u001b[0m\u001b[0merrorbar\u001b[0m\u001b[1;33m(\u001b[0m\u001b[0mres_a_x\u001b[0m\u001b[1;33m,\u001b[0m \u001b[0mres_edg_y\u001b[0m\u001b[1;33m,\u001b[0m \u001b[0myerr\u001b[0m\u001b[1;33m=\u001b[0m\u001b[0mres_edg_err\u001b[0m\u001b[1;33m,\u001b[0m \u001b[0mmarker\u001b[0m\u001b[1;33m=\u001b[0m\u001b[1;34m'o'\u001b[0m\u001b[1;33m,\u001b[0m \u001b[0mlabel\u001b[0m\u001b[1;33m=\u001b[0m\u001b[1;34m'likes sampling'\u001b[0m\u001b[1;33m)\u001b[0m\u001b[1;33m\u001b[0m\u001b[0m\n\u001b[0m\u001b[0;32m     19\u001b[0m \u001b[0max\u001b[0m\u001b[1;33m.\u001b[0m\u001b[0merrorbar\u001b[0m\u001b[1;33m(\u001b[0m\u001b[0mres_i_x\u001b[0m\u001b[1;33m,\u001b[0m \u001b[0mres_int_y\u001b[0m\u001b[1;33m,\u001b[0m \u001b[0myerr\u001b[0m\u001b[1;33m=\u001b[0m\u001b[0mres_int_err\u001b[0m\u001b[1;33m,\u001b[0m \u001b[0mmarker\u001b[0m\u001b[1;33m=\u001b[0m\u001b[1;34m'o'\u001b[0m\u001b[1;33m,\u001b[0m \u001b[0mlabel\u001b[0m\u001b[1;33m=\u001b[0m\u001b[1;34m'item sampling'\u001b[0m\u001b[1;33m)\u001b[0m\u001b[1;33m\u001b[0m\u001b[0m\n\u001b[0;32m     20\u001b[0m \u001b[0mplt\u001b[0m\u001b[1;33m.\u001b[0m\u001b[0mylim\u001b[0m\u001b[1;33m(\u001b[0m\u001b[1;36m0.45\u001b[0m\u001b[1;33m,\u001b[0m \u001b[1;36m1.05\u001b[0m\u001b[1;33m)\u001b[0m\u001b[1;33m\u001b[0m\u001b[0m\n",
      "\u001b[1;32mD:\\Programms\\Anaconda\\envs\\py27\\lib\\site-packages\\matplotlib\\__init__.pyc\u001b[0m in \u001b[0;36minner\u001b[1;34m(ax, *args, **kwargs)\u001b[0m\n\u001b[0;32m   1865\u001b[0m                         \u001b[1;34m\"the Matplotlib list!)\"\u001b[0m \u001b[1;33m%\u001b[0m \u001b[1;33m(\u001b[0m\u001b[0mlabel_namer\u001b[0m\u001b[1;33m,\u001b[0m \u001b[0mfunc\u001b[0m\u001b[1;33m.\u001b[0m\u001b[0m__name__\u001b[0m\u001b[1;33m)\u001b[0m\u001b[1;33m,\u001b[0m\u001b[1;33m\u001b[0m\u001b[0m\n\u001b[0;32m   1866\u001b[0m                         RuntimeWarning, stacklevel=2)\n\u001b[1;32m-> 1867\u001b[1;33m             \u001b[1;32mreturn\u001b[0m \u001b[0mfunc\u001b[0m\u001b[1;33m(\u001b[0m\u001b[0max\u001b[0m\u001b[1;33m,\u001b[0m \u001b[1;33m*\u001b[0m\u001b[0margs\u001b[0m\u001b[1;33m,\u001b[0m \u001b[1;33m**\u001b[0m\u001b[0mkwargs\u001b[0m\u001b[1;33m)\u001b[0m\u001b[1;33m\u001b[0m\u001b[0m\n\u001b[0m\u001b[0;32m   1868\u001b[0m \u001b[1;33m\u001b[0m\u001b[0m\n\u001b[0;32m   1869\u001b[0m         inner.__doc__ = _add_data_doc(inner.__doc__,\n",
      "\u001b[1;32mD:\\Programms\\Anaconda\\envs\\py27\\lib\\site-packages\\matplotlib\\axes\\_axes.pyc\u001b[0m in \u001b[0;36merrorbar\u001b[1;34m(self, x, y, yerr, xerr, fmt, ecolor, elinewidth, capsize, barsabove, lolims, uplims, xlolims, xuplims, errorevery, capthick, **kwargs)\u001b[0m\n\u001b[0;32m   3199\u001b[0m         \u001b[1;32mif\u001b[0m \u001b[0mplot_line\u001b[0m\u001b[1;33m:\u001b[0m\u001b[1;33m\u001b[0m\u001b[0m\n\u001b[0;32m   3200\u001b[0m             \u001b[0mdata_line\u001b[0m \u001b[1;33m=\u001b[0m \u001b[0mmlines\u001b[0m\u001b[1;33m.\u001b[0m\u001b[0mLine2D\u001b[0m\u001b[1;33m(\u001b[0m\u001b[0mx\u001b[0m\u001b[1;33m,\u001b[0m \u001b[0my\u001b[0m\u001b[1;33m,\u001b[0m \u001b[1;33m**\u001b[0m\u001b[0mplot_line_style\u001b[0m\u001b[1;33m)\u001b[0m\u001b[1;33m\u001b[0m\u001b[0m\n\u001b[1;32m-> 3201\u001b[1;33m             \u001b[0mself\u001b[0m\u001b[1;33m.\u001b[0m\u001b[0madd_line\u001b[0m\u001b[1;33m(\u001b[0m\u001b[0mdata_line\u001b[0m\u001b[1;33m)\u001b[0m\u001b[1;33m\u001b[0m\u001b[0m\n\u001b[0m\u001b[0;32m   3202\u001b[0m \u001b[1;33m\u001b[0m\u001b[0m\n\u001b[0;32m   3203\u001b[0m         \u001b[0mbarcols\u001b[0m \u001b[1;33m=\u001b[0m \u001b[1;33m[\u001b[0m\u001b[1;33m]\u001b[0m\u001b[1;33m\u001b[0m\u001b[0m\n",
      "\u001b[1;32mD:\\Programms\\Anaconda\\envs\\py27\\lib\\site-packages\\matplotlib\\axes\\_base.pyc\u001b[0m in \u001b[0;36madd_line\u001b[1;34m(self, line)\u001b[0m\n\u001b[0;32m   1958\u001b[0m             \u001b[0mline\u001b[0m\u001b[1;33m.\u001b[0m\u001b[0mset_clip_path\u001b[0m\u001b[1;33m(\u001b[0m\u001b[0mself\u001b[0m\u001b[1;33m.\u001b[0m\u001b[0mpatch\u001b[0m\u001b[1;33m)\u001b[0m\u001b[1;33m\u001b[0m\u001b[0m\n\u001b[0;32m   1959\u001b[0m \u001b[1;33m\u001b[0m\u001b[0m\n\u001b[1;32m-> 1960\u001b[1;33m         \u001b[0mself\u001b[0m\u001b[1;33m.\u001b[0m\u001b[0m_update_line_limits\u001b[0m\u001b[1;33m(\u001b[0m\u001b[0mline\u001b[0m\u001b[1;33m)\u001b[0m\u001b[1;33m\u001b[0m\u001b[0m\n\u001b[0m\u001b[0;32m   1961\u001b[0m         \u001b[1;32mif\u001b[0m \u001b[1;32mnot\u001b[0m \u001b[0mline\u001b[0m\u001b[1;33m.\u001b[0m\u001b[0mget_label\u001b[0m\u001b[1;33m(\u001b[0m\u001b[1;33m)\u001b[0m\u001b[1;33m:\u001b[0m\u001b[1;33m\u001b[0m\u001b[0m\n\u001b[0;32m   1962\u001b[0m             \u001b[0mline\u001b[0m\u001b[1;33m.\u001b[0m\u001b[0mset_label\u001b[0m\u001b[1;33m(\u001b[0m\u001b[1;34m'_line%d'\u001b[0m \u001b[1;33m%\u001b[0m \u001b[0mlen\u001b[0m\u001b[1;33m(\u001b[0m\u001b[0mself\u001b[0m\u001b[1;33m.\u001b[0m\u001b[0mlines\u001b[0m\u001b[1;33m)\u001b[0m\u001b[1;33m)\u001b[0m\u001b[1;33m\u001b[0m\u001b[0m\n",
      "\u001b[1;32mD:\\Programms\\Anaconda\\envs\\py27\\lib\\site-packages\\matplotlib\\axes\\_base.pyc\u001b[0m in \u001b[0;36m_update_line_limits\u001b[1;34m(self, line)\u001b[0m\n\u001b[0;32m   1980\u001b[0m         \u001b[0mFigures\u001b[0m \u001b[0mout\u001b[0m \u001b[0mthe\u001b[0m \u001b[0mdata\u001b[0m \u001b[0mlimit\u001b[0m \u001b[0mof\u001b[0m \u001b[0mthe\u001b[0m \u001b[0mgiven\u001b[0m \u001b[0mline\u001b[0m\u001b[1;33m,\u001b[0m \u001b[0mupdating\u001b[0m \u001b[0mself\u001b[0m\u001b[1;33m.\u001b[0m\u001b[0mdataLim\u001b[0m\u001b[1;33m.\u001b[0m\u001b[1;33m\u001b[0m\u001b[0m\n\u001b[0;32m   1981\u001b[0m         \"\"\"\n\u001b[1;32m-> 1982\u001b[1;33m         \u001b[0mpath\u001b[0m \u001b[1;33m=\u001b[0m \u001b[0mline\u001b[0m\u001b[1;33m.\u001b[0m\u001b[0mget_path\u001b[0m\u001b[1;33m(\u001b[0m\u001b[1;33m)\u001b[0m\u001b[1;33m\u001b[0m\u001b[0m\n\u001b[0m\u001b[0;32m   1983\u001b[0m         \u001b[1;32mif\u001b[0m \u001b[0mpath\u001b[0m\u001b[1;33m.\u001b[0m\u001b[0mvertices\u001b[0m\u001b[1;33m.\u001b[0m\u001b[0msize\u001b[0m \u001b[1;33m==\u001b[0m \u001b[1;36m0\u001b[0m\u001b[1;33m:\u001b[0m\u001b[1;33m\u001b[0m\u001b[0m\n\u001b[0;32m   1984\u001b[0m             \u001b[1;32mreturn\u001b[0m\u001b[1;33m\u001b[0m\u001b[0m\n",
      "\u001b[1;32mD:\\Programms\\Anaconda\\envs\\py27\\lib\\site-packages\\matplotlib\\lines.pyc\u001b[0m in \u001b[0;36mget_path\u001b[1;34m(self)\u001b[0m\n\u001b[0;32m    954\u001b[0m         \"\"\"\n\u001b[0;32m    955\u001b[0m         \u001b[1;32mif\u001b[0m \u001b[0mself\u001b[0m\u001b[1;33m.\u001b[0m\u001b[0m_invalidy\u001b[0m \u001b[1;32mor\u001b[0m \u001b[0mself\u001b[0m\u001b[1;33m.\u001b[0m\u001b[0m_invalidx\u001b[0m\u001b[1;33m:\u001b[0m\u001b[1;33m\u001b[0m\u001b[0m\n\u001b[1;32m--> 956\u001b[1;33m             \u001b[0mself\u001b[0m\u001b[1;33m.\u001b[0m\u001b[0mrecache\u001b[0m\u001b[1;33m(\u001b[0m\u001b[1;33m)\u001b[0m\u001b[1;33m\u001b[0m\u001b[0m\n\u001b[0m\u001b[0;32m    957\u001b[0m         \u001b[1;32mreturn\u001b[0m \u001b[0mself\u001b[0m\u001b[1;33m.\u001b[0m\u001b[0m_path\u001b[0m\u001b[1;33m\u001b[0m\u001b[0m\n\u001b[0;32m    958\u001b[0m \u001b[1;33m\u001b[0m\u001b[0m\n",
      "\u001b[1;32mD:\\Programms\\Anaconda\\envs\\py27\\lib\\site-packages\\matplotlib\\lines.pyc\u001b[0m in \u001b[0;36mrecache\u001b[1;34m(self, always)\u001b[0m\n\u001b[0;32m    659\u001b[0m             \u001b[0my\u001b[0m \u001b[1;33m=\u001b[0m \u001b[0mself\u001b[0m\u001b[1;33m.\u001b[0m\u001b[0m_y\u001b[0m\u001b[1;33m\u001b[0m\u001b[0m\n\u001b[0;32m    660\u001b[0m \u001b[1;33m\u001b[0m\u001b[0m\n\u001b[1;32m--> 661\u001b[1;33m         \u001b[0mself\u001b[0m\u001b[1;33m.\u001b[0m\u001b[0m_xy\u001b[0m \u001b[1;33m=\u001b[0m \u001b[0mnp\u001b[0m\u001b[1;33m.\u001b[0m\u001b[0mcolumn_stack\u001b[0m\u001b[1;33m(\u001b[0m\u001b[0mnp\u001b[0m\u001b[1;33m.\u001b[0m\u001b[0mbroadcast_arrays\u001b[0m\u001b[1;33m(\u001b[0m\u001b[0mx\u001b[0m\u001b[1;33m,\u001b[0m \u001b[0my\u001b[0m\u001b[1;33m)\u001b[0m\u001b[1;33m)\u001b[0m\u001b[1;33m.\u001b[0m\u001b[0mastype\u001b[0m\u001b[1;33m(\u001b[0m\u001b[0mfloat\u001b[0m\u001b[1;33m)\u001b[0m\u001b[1;33m\u001b[0m\u001b[0m\n\u001b[0m\u001b[0;32m    662\u001b[0m         \u001b[0mself\u001b[0m\u001b[1;33m.\u001b[0m\u001b[0m_x\u001b[0m\u001b[1;33m,\u001b[0m \u001b[0mself\u001b[0m\u001b[1;33m.\u001b[0m\u001b[0m_y\u001b[0m \u001b[1;33m=\u001b[0m \u001b[0mself\u001b[0m\u001b[1;33m.\u001b[0m\u001b[0m_xy\u001b[0m\u001b[1;33m.\u001b[0m\u001b[0mT\u001b[0m  \u001b[1;31m# views\u001b[0m\u001b[1;33m\u001b[0m\u001b[0m\n\u001b[0;32m    663\u001b[0m \u001b[1;33m\u001b[0m\u001b[0m\n",
      "\u001b[1;32mD:\\Programms\\Anaconda\\envs\\py27\\lib\\site-packages\\numpy\\lib\\stride_tricks.pyc\u001b[0m in \u001b[0;36mbroadcast_arrays\u001b[1;34m(*args, **kwargs)\u001b[0m\n\u001b[0;32m    257\u001b[0m     \u001b[0margs\u001b[0m \u001b[1;33m=\u001b[0m \u001b[1;33m[\u001b[0m\u001b[0mnp\u001b[0m\u001b[1;33m.\u001b[0m\u001b[0marray\u001b[0m\u001b[1;33m(\u001b[0m\u001b[0m_m\u001b[0m\u001b[1;33m,\u001b[0m \u001b[0mcopy\u001b[0m\u001b[1;33m=\u001b[0m\u001b[0mFalse\u001b[0m\u001b[1;33m,\u001b[0m \u001b[0msubok\u001b[0m\u001b[1;33m=\u001b[0m\u001b[0msubok\u001b[0m\u001b[1;33m)\u001b[0m \u001b[1;32mfor\u001b[0m \u001b[0m_m\u001b[0m \u001b[1;32min\u001b[0m \u001b[0margs\u001b[0m\u001b[1;33m]\u001b[0m\u001b[1;33m\u001b[0m\u001b[0m\n\u001b[0;32m    258\u001b[0m \u001b[1;33m\u001b[0m\u001b[0m\n\u001b[1;32m--> 259\u001b[1;33m     \u001b[0mshape\u001b[0m \u001b[1;33m=\u001b[0m \u001b[0m_broadcast_shape\u001b[0m\u001b[1;33m(\u001b[0m\u001b[1;33m*\u001b[0m\u001b[0margs\u001b[0m\u001b[1;33m)\u001b[0m\u001b[1;33m\u001b[0m\u001b[0m\n\u001b[0m\u001b[0;32m    260\u001b[0m \u001b[1;33m\u001b[0m\u001b[0m\n\u001b[0;32m    261\u001b[0m     \u001b[1;32mif\u001b[0m \u001b[0mall\u001b[0m\u001b[1;33m(\u001b[0m\u001b[0marray\u001b[0m\u001b[1;33m.\u001b[0m\u001b[0mshape\u001b[0m \u001b[1;33m==\u001b[0m \u001b[0mshape\u001b[0m \u001b[1;32mfor\u001b[0m \u001b[0marray\u001b[0m \u001b[1;32min\u001b[0m \u001b[0margs\u001b[0m\u001b[1;33m)\u001b[0m\u001b[1;33m:\u001b[0m\u001b[1;33m\u001b[0m\u001b[0m\n",
      "\u001b[1;32mD:\\Programms\\Anaconda\\envs\\py27\\lib\\site-packages\\numpy\\lib\\stride_tricks.pyc\u001b[0m in \u001b[0;36m_broadcast_shape\u001b[1;34m(*args)\u001b[0m\n\u001b[0;32m    191\u001b[0m     \u001b[1;31m# use the old-iterator because np.nditer does not handle size 0 arrays\u001b[0m\u001b[1;33m\u001b[0m\u001b[1;33m\u001b[0m\u001b[0m\n\u001b[0;32m    192\u001b[0m     \u001b[1;31m# consistently\u001b[0m\u001b[1;33m\u001b[0m\u001b[1;33m\u001b[0m\u001b[0m\n\u001b[1;32m--> 193\u001b[1;33m     \u001b[0mb\u001b[0m \u001b[1;33m=\u001b[0m \u001b[0mnp\u001b[0m\u001b[1;33m.\u001b[0m\u001b[0mbroadcast\u001b[0m\u001b[1;33m(\u001b[0m\u001b[1;33m*\u001b[0m\u001b[0margs\u001b[0m\u001b[1;33m[\u001b[0m\u001b[1;33m:\u001b[0m\u001b[1;36m32\u001b[0m\u001b[1;33m]\u001b[0m\u001b[1;33m)\u001b[0m\u001b[1;33m\u001b[0m\u001b[0m\n\u001b[0m\u001b[0;32m    194\u001b[0m     \u001b[1;31m# unfortunately, it cannot handle 32 or more arguments directly\u001b[0m\u001b[1;33m\u001b[0m\u001b[1;33m\u001b[0m\u001b[0m\n\u001b[0;32m    195\u001b[0m     \u001b[1;32mfor\u001b[0m \u001b[0mpos\u001b[0m \u001b[1;32min\u001b[0m \u001b[0mrange\u001b[0m\u001b[1;33m(\u001b[0m\u001b[1;36m32\u001b[0m\u001b[1;33m,\u001b[0m \u001b[0mlen\u001b[0m\u001b[1;33m(\u001b[0m\u001b[0margs\u001b[0m\u001b[1;33m)\u001b[0m\u001b[1;33m,\u001b[0m \u001b[1;36m31\u001b[0m\u001b[1;33m)\u001b[0m\u001b[1;33m:\u001b[0m\u001b[1;33m\u001b[0m\u001b[0m\n",
      "\u001b[1;31mValueError\u001b[0m: shape mismatch: objects cannot be broadcast to a single shape"
     ]
    },
    {
     "data": {
      "image/png": "[encoded data removed]",
      "text/plain": [
       "<Figure size 720x432 with 1 Axes>"
      ]
     },
     "metadata": {
      "needs_background": "light"
     },
     "output_type": "display_data"
    }
   ],
   "source": [
    "# Now for a comparison graph.\n",
    "# res_int_x = [10, 20, 50, 100, 200, 400, 1000]\n",
    "# res_int_y = [0.897950992817913, 0.8580698419051431, 0.8208923375363725, 0.7617321171387422, 0.6787648070309514, 0.6216285496474175, 0.5144928639391056]\n",
    "# res_int_err = [0.016882041525877665, 0.039889350640687743, 0.063391675604248701, 0.10959444258799378, 0.14373167394339534, 0.13662163819741741, 0.10275693241854568]\n",
    "# res_edg_x = [10, 20, 50, 100, 200, 400, 1000]\n",
    "# res_edg_y = [0.88999788762146181, 0.87536521913147891, 0.82294277400581961, 0.72839750360057598, 0.67358937613451797, 0.63884981894415849, 0.59327719097916076]\n",
    "# res_edg_err = [0.0068357969684385966, 0.0084777131391844795, 0.037350044990327166, 0.085970631359878633, 0.09539911360266122, 0.10455997072894992, 0.10284262914317449]\n",
    "\n",
    "res_edg_x = results_all_edges_x \n",
    "res_edg_y = results_all_edges_y \n",
    "res_edg_err = results_all_edges_err \n",
    "\n",
    "# We need the fractions\n",
    "res_e_x = [1.0 / x for x in res_edg_x]\n",
    "res_i_x = [1.0 / x for x in res_int_x]\n",
    "# Builds the plots.\n",
    "fig, ax = plt.subplots(1)\n",
    "ax.errorbar(res_a_x, res_edg_y, yerr=res_edg_err, marker='o', label='likes sampling')\n",
    "ax.errorbar(res_i_x, res_int_y, yerr=res_int_err, marker='o', label='item sampling')\n",
    "plt.ylim(0.45, 1.05)\n",
    "plt.xscale('log')\n",
    "plt.xlim(1/1200.0, 1/9.0)\n",
    "ax.legend()\n",
    "ax.grid()\n",
    "fig.suptitle('Accuracy vs. fraction of items in learning set, intersection dataset')\n",
    "plt.plot()\n",
    "plt.savefig('accuracy_like_sampling.pdf')"
   ]
  },
  {
   "cell_type": "code",
   "execution_count": 39,
   "metadata": {},
   "outputs": [
    {
     "name": "stdout",
     "output_type": "stream",
     "text": [
      "The graph has been built!\n",
      "page: 581793998\n",
      "For all, correctness: 0.979529170931\n",
      "page: 241488377\n",
      "For all, correctness: 0.0838323353293\n",
      "page: 930919729254010885\n",
      "For all, correctness: 0.00230813618003\n",
      "page: 864116008910548992\n",
      "For all, correctness: 1.0\n",
      "page: 39480709\n",
      "For all, correctness: 0.944134078212\n",
      "page: 37664893\n",
      "For all, correctness: 0.948275862069\n",
      "page: 1901341021\n",
      "For all, correctness: 0.993103448276\n",
      "page: 562800078\n",
      "For all, correctness: 0.991869918699\n",
      "page: 86058123\n",
      "For all, correctness: 0.904\n",
      "page: 831151718\n",
      "For all, correctness: 0.905797101449\n",
      "page: 2863515755\n",
      "For all, correctness: 0.549295774648\n",
      "page: 194399035\n",
      "For all, correctness: 0.904993909866\n",
      "page: 844805327254011905\n",
      "For all, correctness: 0.90873015873\n",
      "page: 1359279284\n",
      "For all, correctness: 0.0\n",
      "page: 469251331\n",
      "For all, correctness: 0.762376237624\n",
      "page: 47295451\n",
      "For all, correctness: 0.0534562211982\n",
      "page: 19179390\n",
      "For all, correctness: 0.981981981982\n",
      "page: 493172275\n",
      "For all, correctness: 1.0\n",
      "page: 88763077\n",
      "For all, correctness: 0.857142857143\n",
      "page: 1045260886997430272\n",
      "For all, correctness: 0.012987012987\n",
      "page: 1073461458\n",
      "For all, correctness: 0.0148296593186\n",
      "page: 14493047\n",
      "For all, correctness: 0.997718197376\n",
      "page: 86022744\n",
      "For all, correctness: 0.351681957187\n",
      "Final average correctness for leave-one-page-out all: 0.6586106095306662\n",
      "Standard deviation: 0.40310250209847154\n"
     ]
    }
   ],
   "source": [
    "# First, we do the analysis of leave-one-page-out. \n",
    "reload(voting)\n",
    "frac_correct_all = [] # On complete graph\n",
    "frac_correct_w = []\n",
    "# First, for all. \n",
    "g = voting.VotingGraph()\n",
    "add_data(g, use_all=True)\n",
    "for pg in pages:\n",
    "    print \"page:\", pg\n",
    "    # Creates the function that classifies items.\n",
    "    def is_learning(itid):\n",
    "        return itid.split('_')[0] != pg\n",
    "    fc = g.evaluate_inference_given_learning(is_learning)\n",
    "    print \"For all, correctness:\", fc\n",
    "    frac_correct_all.append(fc)\n",
    "    frac_correct_w.append(posts_per_page[pg])\n",
    "print \"Final average correctness for leave-one-page-out all:\", np.average(frac_correct_all)\n",
    "print \"Standard deviation:\", np.std(frac_correct_all)\n"
   ]
  },
  {
   "cell_type": "code",
   "execution_count": 40,
   "metadata": {},
   "outputs": [
    {
     "name": "stdout",
     "output_type": "stream",
     "text": [
      "The graph has been built!\n",
      "page: 581793998\n",
      "For all, correctness: 0.938166311301\n",
      "page: 241488377\n",
      "For all, correctness: 0.0810810810811\n",
      "page: 930919729254010885\n",
      "For all, correctness: 0.00438871473354\n",
      "page: 864116008910548992\n",
      "For all, correctness: 0.981042654028\n",
      "page: 39480709\n",
      "For all, correctness: 0.85401459854\n",
      "page: 37664893\n",
      "For all, correctness: 0.837837837838\n",
      "page: 1901341021\n",
      "For all, correctness: 0.94623655914\n",
      "page: 562800078\n",
      "For all, correctness: 0.957746478873\n",
      "page: 86058123\n",
      "For all, correctness: 0.745098039216\n",
      "page: 831151718\n",
      "For all, correctness: 0.86815920398\n",
      "page: 2863515755\n",
      "For all, correctness: 0.473684210526\n",
      "page: 194399035\n",
      "For all, correctness: 0.807283763278\n",
      "page: 844805327254011905\n",
      "For all, correctness: 0.729957805907\n",
      "page: 1359279284\n",
      "For all, correctness: 0.0\n",
      "page: 469251331\n",
      "For all, correctness: 0.7125\n",
      "page: 47295451\n",
      "For all, correctness: 0.0292177191329\n",
      "page: 19179390\n",
      "For all, correctness: 0.926829268293\n",
      "page: 493172275\n",
      "For all, correctness: 0.846153846154\n",
      "page: 88763077\n",
      "For all, correctness: 0.8\n",
      "page: 1045260886997430272\n",
      "For all, correctness: 0.00649350649351\n",
      "page: 1073461458\n",
      "For all, correctness: 0.0132743362832\n",
      "page: 14493047\n",
      "For all, correctness: 0.933040614709\n",
      "page: 86022744\n",
      "For all, correctness: 0.300341296928\n",
      "Final average correctness for leave-one-page-out intersection: 0.472755642945246\n"
     ]
    }
   ],
   "source": [
    "# We do the analysis of leave-one-page-out, also for the intersection dataset.\n",
    "reload(voting)\n",
    "frac_correct_all = [] # On complete graph\n",
    "frac_correct_w = []\n",
    "frac_correct_int = []\n",
    "# First, for all. \n",
    "g = voting.VotingGraph()\n",
    "add_data(g, use_all=False)\n",
    "for pg in pages:\n",
    "    print \"page:\", pg\n",
    "    # Creates the function that classifies items.\n",
    "    def is_learning(itid):\n",
    "        return itid.split('_')[0] != pg\n",
    "    fc = g.evaluate_inference_given_learning(is_learning)\n",
    "    print \"For all, correctness:\", fc\n",
    "    frac_correct_int.append(fc)\n",
    "    frac_correct_w.append(posts_per_page[pg])\n",
    "print \"Final average correctness for leave-one-page-out intersection:\", np.average(frac_correct_int, weights=frac_correct_w)\n"
   ]
  },
  {
   "cell_type": "code",
   "execution_count": 41,
   "metadata": {},
   "outputs": [
    {
     "name": "stdout",
     "output_type": "stream",
     "text": [
      "The graph has been built!\n",
      "N learn 9219.0 N test 6508.0 w 59997252.0\n",
      "Learning from 2 of each kind, all: 0.614024201055\n",
      "N learn 10643.0 N test 5084.0 w 54109012.0\n",
      "Learning from 2 of each kind, all: 0.490122481233\n",
      "N learn 10073.0 N test 5654.0 w 56952742.0\n",
      "Learning from 2 of each kind, all: 0.497415790412\n",
      "N learn 6546.0 N test 9181.0 w 60098826.0\n",
      "Learning from 2 of each kind, all: 0.459840454595\n",
      "N learn 9216.0 N test 6511.0 w 60005376.0\n",
      "Learning from 2 of each kind, all: 0.549798948345\n",
      "N learn 6937.0 N test 8790.0 w 60976230.0\n",
      "Learning from 2 of each kind, all: 0.577833695528\n",
      "N learn 8684.0 N test 7043.0 w 61161412.0\n",
      "Learning from 2 of each kind, all: 0.340704808104\n",
      "N learn 10828.0 N test 4899.0 w 53046372.0\n",
      "Learning from 2 of each kind, all: 0.873503920759\n",
      "N learn 9165.0 N test 6562.0 w 60140730.0\n",
      "Learning from 2 of each kind, all: 0.654122686248\n",
      "N learn 7045.0 N test 8682.0 w 61164690.0\n",
      "Learning from 2 of each kind, all: 0.501907293954\n",
      "N learn 8793.0 N test 6934.0 w 60970662.0\n",
      "Learning from 2 of each kind, all: 0.727772951057\n",
      "N learn 9872.0 N test 5855.0 w 57800560.0\n",
      "Learning from 2 of each kind, all: 0.572653971522\n",
      "N learn 7028.0 N test 8699.0 w 61136572.0\n",
      "Learning from 2 of each kind, all: 0.650127226463\n",
      "N learn 8442.0 N test 7285.0 w 61499970.0\n",
      "Learning from 2 of each kind, all: 0.840060823887\n",
      "N learn 8217.0 N test 7510.0 w 61709670.0\n",
      "Learning from 2 of each kind, all: 0.640042740751\n",
      "N learn 6898.0 N test 8829.0 w 60902442.0\n",
      "Learning from 2 of each kind, all: 0.605881012081\n",
      "N learn 7161.0 N test 8566.0 w 61341126.0\n",
      "Learning from 2 of each kind, all: 0.620657276995\n",
      "N learn 7811.0 N test 7916.0 w 61831876.0\n",
      "Learning from 2 of each kind, all: 0.693698281349\n",
      "N learn 10173.0 N test 5554.0 w 56500842.0\n",
      "Learning from 2 of each kind, all: 0.454726188325\n",
      "N learn 3458.0 N test 12269.0 w 42426202.0\n",
      "Learning from 2 of each kind, all: 0.732650553052\n",
      "N learn 6562.0 N test 9165.0 w 60140730.0\n",
      "Learning from 2 of each kind, all: 0.690322580645\n",
      "N learn 8433.0 N test 7294.0 w 61510302.0\n",
      "Learning from 2 of each kind, all: 0.621030927835\n",
      "N learn 7650.0 N test 8077.0 w 61789050.0\n",
      "Learning from 2 of each kind, all: 0.673988582775\n",
      "N learn 7126.0 N test 8601.0 w 61290726.0\n",
      "Learning from 2 of each kind, all: 0.596082089552\n",
      "N learn 7829.0 N test 7898.0 w 61833442.0\n",
      "Learning from 2 of each kind, all: 0.644898996316\n",
      "N learn 8698.0 N test 7029.0 w 61138242.0\n",
      "Learning from 2 of each kind, all: 0.679463393749\n",
      "N learn 6672.0 N test 9055.0 w 60414960.0\n",
      "Learning from 2 of each kind, all: 0.630891790219\n",
      "N learn 11015.0 N test 4712.0 w 51902680.0\n",
      "Learning from 2 of each kind, all: 0.939432714865\n",
      "N learn 10439.0 N test 5288.0 w 55201432.0\n",
      "Learning from 2 of each kind, all: 0.919724770642\n",
      "N learn 9948.0 N test 5779.0 w 57489492.0\n",
      "Learning from 2 of each kind, all: 0.518061827023\n",
      "N learn 10954.0 N test 4773.0 w 52283442.0\n",
      "Learning from 2 of each kind, all: 0.774485077764\n",
      "N learn 10694.0 N test 5033.0 w 53822902.0\n",
      "Learning from 2 of each kind, all: 0.796705504219\n",
      "N learn 9473.0 N test 6254.0 w 59244142.0\n",
      "Learning from 2 of each kind, all: 0.867666021921\n",
      "N learn 8617.0 N test 7110.0 w 61266870.0\n",
      "Learning from 2 of each kind, all: 0.691743119266\n",
      "N learn 8992.0 N test 6735.0 w 60561120.0\n",
      "Learning from 2 of each kind, all: 0.872193953906\n",
      "N learn 10036.0 N test 5691.0 w 57114876.0\n",
      "Learning from 2 of each kind, all: 0.623869480404\n",
      "N learn 7663.0 N test 8064.0 w 61794432.0\n",
      "Learning from 2 of each kind, all: 0.661680378958\n",
      "N learn 5694.0 N test 10033.0 w 57127902.0\n",
      "Learning from 2 of each kind, all: 0.673945707703\n",
      "N learn 8559.0 N test 7168.0 w 61350912.0\n",
      "Learning from 2 of each kind, all: 0.660983789827\n",
      "N learn 7786.0 N test 7941.0 w 61828626.0\n",
      "Learning from 2 of each kind, all: 0.640166835187\n",
      "N learn 6559.0 N test 9168.0 w 60132912.0\n",
      "Learning from 2 of each kind, all: 0.658760520275\n",
      "N learn 6862.0 N test 8865.0 w 60831630.0\n",
      "Learning from 2 of each kind, all: 0.734147168532\n",
      "N learn 7544.0 N test 8183.0 w 61732552.0\n",
      "Learning from 2 of each kind, all: 0.564913571166\n",
      "N learn 4643.0 N test 11084.0 w 51463012.0\n",
      "Learning from 2 of each kind, all: 0.710293053546\n",
      "N learn 9461.0 N test 6266.0 w 59282626.0\n",
      "Learning from 2 of each kind, all: 0.668802049968\n",
      "N learn 6965.0 N test 8762.0 w 61027330.0\n",
      "Learning from 2 of each kind, all: 0.688537730448\n",
      "N learn 10025.0 N test 5702.0 w 57162550.0\n",
      "Learning from 2 of each kind, all: 0.584975369458\n",
      "N learn 7679.0 N test 8048.0 w 61800592.0\n",
      "Learning from 2 of each kind, all: 0.65589922674\n",
      "N learn 7165.0 N test 8562.0 w 61346730.0\n",
      "Learning from 2 of each kind, all: 0.394873000941\n",
      "N learn 7075.0 N test 8652.0 w 61212900.0\n",
      "Learning from 2 of each kind, all: 0.559633027523\n",
      "Final average correctness for learning from half of each kind, all: 0.6475288530078026\n",
      "avg 0.6499143513417368\n",
      "stdev 0.1251153412953412\n"
     ]
    }
   ],
   "source": [
    "# Now, let's try to keep HALF of the pages out. \n",
    "# Now, we do the analysis in which we randomly select two \n",
    "# pages hoax and two non-hoax, and we learn from those alone.\n",
    "reload(voting)\n",
    "frac_correct_all_half = [] # On complete graph\n",
    "weights_correct_all_half = []\n",
    "fraction_pages = 0.5\n",
    "# First, for all. \n",
    "g = voting.VotingGraph()\n",
    "add_data(g, use_all=True)\n",
    "num_hoax_in = max(1, int(0.5 + len(hoax_pages) * fraction_pages))\n",
    "num_nonhoax_in = max(1, int(0.5 + len(nonhoax_pages) * fraction_pages))\n",
    "hoax_pages_l = list(hoax_pages)\n",
    "nonhoax_pages_l = list(nonhoax_pages)\n",
    "for _ in range(50):\n",
    "    # Picks pages in and out.\n",
    "    random.shuffle(hoax_pages_l)\n",
    "    random.shuffle(nonhoax_pages_l)\n",
    "    learn_pages = hoax_pages_l[:num_hoax_in] + nonhoax_pages_l[:num_nonhoax_in]\n",
    "    test_pages = hoax_pages_l[num_hoax_in:] + nonhoax_pages_l[num_nonhoax_in:]\n",
    "    # Computes the weight of the run.\n",
    "    num_learn_posts = np.sum([posts_per_page[p] for p in learn_pages])\n",
    "    num_test_posts = np.sum([posts_per_page[p] for p in test_pages])\n",
    "    w = num_learn_posts * num_test_posts\n",
    "    print \"N learn\", num_learn_posts, \"N test\", num_test_posts, \"w\", w\n",
    "    # Defines the function.\n",
    "    def is_learning(itid):\n",
    "        return itid.split('_')[0] in learn_pages\n",
    "    fc = g.evaluate_inference_given_learning(is_learning)\n",
    "    print \"Learning from 2 of each kind, all:\", fc\n",
    "    frac_correct_all_half.append(fc)\n",
    "    weights_correct_all_half.append(w)\n",
    "\n",
    "print \"Final average correctness for learning from half of each kind, all:\", np.average(frac_correct_all_half, weights=weights_correct_all_half)\n",
    "print \"avg\", np.average(frac_correct_all_half)\n",
    "print \"stdev\", np.std(frac_correct_all_half)\n",
    "\n"
   ]
  },
  {
   "cell_type": "code",
   "execution_count": 42,
   "metadata": {},
   "outputs": [
    {
     "name": "stdout",
     "output_type": "stream",
     "text": [
      "The graph has been built!\n",
      "N learn 9044.0 N test 6683.0 w 60441052.0\n",
      "Learning from half of each kind, all: 0.45927306617\n",
      "N learn 6070.0 N test 9657.0 w 58617990.0\n",
      "Learning from half of each kind, all: 0.445855206934\n",
      "N learn 4741.0 N test 10986.0 w 52084626.0\n",
      "Learning from half of each kind, all: 0.61625770187\n",
      "N learn 7330.0 N test 8397.0 w 61550010.0\n",
      "Learning from half of each kind, all: 0.344406879318\n",
      "N learn 6202.0 N test 9525.0 w 59074050.0\n",
      "Learning from half of each kind, all: 0.560790051207\n",
      "N learn 7312.0 N test 8415.0 w 61530480.0\n",
      "Learning from half of each kind, all: 0.367824238129\n",
      "N learn 9907.0 N test 5820.0 w 57658740.0\n",
      "Learning from half of each kind, all: 0.710180827347\n",
      "N learn 8907.0 N test 6820.0 w 60745740.0\n",
      "Learning from half of each kind, all: 0.521676761237\n",
      "N learn 8445.0 N test 7282.0 w 61496490.0\n",
      "Learning from half of each kind, all: 0.544417877506\n",
      "N learn 5903.0 N test 9824.0 w 57991072.0\n",
      "Learning from half of each kind, all: 0.561596520404\n",
      "N learn 10263.0 N test 5464.0 w 56077032.0\n",
      "Learning from half of each kind, all: 0.751052483862\n",
      "N learn 6084.0 N test 9643.0 w 58668012.0\n",
      "Learning from half of each kind, all: 0.563248502994\n",
      "N learn 6851.0 N test 8876.0 w 60809476.0\n",
      "Learning from half of each kind, all: 0.45749355963\n",
      "N learn 8765.0 N test 6962.0 w 61021930.0\n",
      "Learning from half of each kind, all: 0.452631578947\n",
      "N learn 7201.0 N test 8526.0 w 61395726.0\n",
      "Learning from half of each kind, all: 0.556940333385\n",
      "N learn 9638.0 N test 6089.0 w 58685782.0\n",
      "Learning from half of each kind, all: 0.384101536406\n",
      "N learn 11625.0 N test 4102.0 w 47685750.0\n",
      "Learning from half of each kind, all: 0.582184122251\n",
      "N learn 7196.0 N test 8531.0 w 61389076.0\n",
      "Learning from half of each kind, all: 0.363241272957\n",
      "N learn 7457.0 N test 8270.0 w 61669390.0\n",
      "Learning from half of each kind, all: 0.506022080964\n",
      "N learn 8737.0 N test 6990.0 w 61071630.0\n",
      "Learning from half of each kind, all: 0.56562113083\n",
      "N learn 9048.0 N test 6679.0 w 60431592.0\n",
      "Learning from half of each kind, all: 0.222958452722\n",
      "N learn 9689.0 N test 6038.0 w 58502182.0\n",
      "Learning from half of each kind, all: 0.515827711469\n",
      "N learn 9959.0 N test 5768.0 w 57443512.0\n",
      "Learning from half of each kind, all: 0.358120437956\n",
      "N learn 5465.0 N test 10262.0 w 56081830.0\n",
      "Learning from half of each kind, all: 0.402151639344\n",
      "N learn 7983.0 N test 7744.0 w 61820352.0\n",
      "Learning from half of each kind, all: 0.619707467283\n",
      "N learn 8341.0 N test 7386.0 w 61606626.0\n",
      "Learning from half of each kind, all: 0.538992408558\n",
      "N learn 5579.0 N test 10148.0 w 56615692.0\n",
      "Learning from half of each kind, all: 0.575833632126\n",
      "N learn 10655.0 N test 5072.0 w 54042160.0\n",
      "Learning from half of each kind, all: 0.708821887214\n",
      "N learn 8529.0 N test 7198.0 w 61391742.0\n",
      "Learning from half of each kind, all: 0.601400041178\n",
      "N learn 7169.0 N test 8558.0 w 61352302.0\n",
      "Learning from half of each kind, all: 0.484029829745\n",
      "N learn 8666.0 N test 7061.0 w 61190626.0\n",
      "Learning from half of each kind, all: 0.501963993453\n",
      "N learn 4290.0 N test 11437.0 w 49064730.0\n",
      "Learning from half of each kind, all: 0.617027769301\n",
      "N learn 11179.0 N test 4548.0 w 50842092.0\n",
      "Learning from half of each kind, all: 0.459844211657\n",
      "N learn 7527.0 N test 8200.0 w 61721400.0\n",
      "Learning from half of each kind, all: 0.429008671995\n",
      "N learn 7957.0 N test 7770.0 w 61825890.0\n",
      "Learning from half of each kind, all: 0.455310682583\n",
      "N learn 5672.0 N test 10055.0 w 57031960.0\n",
      "Learning from half of each kind, all: 0.571920165175\n",
      "N learn 9093.0 N test 6634.0 w 60322962.0\n",
      "Learning from half of each kind, all: 0.390782339272\n",
      "N learn 8704.0 N test 7023.0 w 61128192.0\n",
      "Learning from half of each kind, all: 0.487907065321\n",
      "N learn 8991.0 N test 6736.0 w 60563376.0\n",
      "Learning from half of each kind, all: 0.268775372124\n",
      "N learn 7203.0 N test 8524.0 w 61398372.0\n",
      "Learning from half of each kind, all: 0.565899906745\n",
      "N learn 10891.0 N test 4836.0 w 52668876.0\n",
      "Learning from half of each kind, all: 0.521921251047\n",
      "N learn 7831.0 N test 7896.0 w 61833576.0\n",
      "Learning from half of each kind, all: 0.540556809631\n",
      "N learn 6810.0 N test 8917.0 w 60724770.0\n",
      "Learning from half of each kind, all: 0.480568324279\n",
      "N learn 7821.0 N test 7906.0 w 61832826.0\n",
      "Learning from half of each kind, all: 0.500168406871\n",
      "N learn 8641.0 N test 7086.0 w 61230126.0\n",
      "Learning from half of each kind, all: 0.242477564667\n",
      "N learn 5679.0 N test 10048.0 w 57062592.0\n",
      "Learning from half of each kind, all: 0.52850577568\n",
      "N learn 7739.0 N test 7988.0 w 61819132.0\n",
      "Learning from half of each kind, all: 0.234173126615\n",
      "N learn 6704.0 N test 9023.0 w 60490192.0\n",
      "Learning from half of each kind, all: 0.635097493036\n",
      "N learn 11364.0 N test 4363.0 w 49581132.0\n",
      "Learning from half of each kind, all: 0.630769230769\n",
      "N learn 9173.0 N test 6554.0 w 60119842.0\n",
      "Learning from half of each kind, all: 0.801765105227\n",
      "Final average correctness for learning from half of each kind, intersection: 0.5014727572022404\n",
      "avg 0.5041420501078704\n",
      "stdev 0.12467198767377792\n"
     ]
    }
   ],
   "source": [
    "# Now, let's try to keep HALF of the pages out. \n",
    "# Now, we do the analysis in which we randomly select two \n",
    "# pages hoax and two non-hoax, and we learn from those alone.\n",
    "reload(voting)\n",
    "frac_correct_int_half = [] # On complete graph\n",
    "weights_correct_int_half = []\n",
    "fraction_pages = 0.5\n",
    "# First, for all. \n",
    "g = voting.VotingGraph()\n",
    "add_data(g, use_all=False)\n",
    "num_hoax_in = max(1, int(0.5 + len(hoax_pages) * fraction_pages))\n",
    "num_nonhoax_in = max(1, int(0.5 + len(nonhoax_pages) * fraction_pages))\n",
    "hoax_pages_l = list(hoax_pages)\n",
    "nonhoax_pages_l = list(nonhoax_pages)\n",
    "for _ in range(50):\n",
    "    # Picks pages in and out.\n",
    "    random.shuffle(hoax_pages_l)\n",
    "    random.shuffle(nonhoax_pages_l)\n",
    "    learn_pages = hoax_pages_l[:num_hoax_in] + nonhoax_pages_l[:num_nonhoax_in]\n",
    "    test_pages = hoax_pages_l[num_hoax_in:] + nonhoax_pages_l[num_nonhoax_in:]\n",
    "    # Computes the weight of the run.\n",
    "    num_learn_posts = np.sum([posts_per_page[p] for p in learn_pages])\n",
    "    num_test_posts = np.sum([posts_per_page[p] for p in test_pages])\n",
    "    w = num_learn_posts * num_test_posts\n",
    "    print \"N learn\", num_learn_posts, \"N test\", num_test_posts, \"w\", w\n",
    "    # Defines the function.\n",
    "    def is_learning(itid):\n",
    "        return itid.split('_')[0] in learn_pages\n",
    "    fc = g.evaluate_inference_given_learning(is_learning)\n",
    "    print \"Learning from half of each kind, all:\", fc\n",
    "    frac_correct_int_half.append(fc)\n",
    "    weights_correct_int_half.append(w)\n",
    "print \"Final average correctness for learning from half of each kind, intersection:\", np.average(frac_correct_int_half, weights=weights_correct_int_half)\n",
    "print \"avg\", np.average(frac_correct_int_half)\n",
    "print \"stdev\", np.std(frac_correct_int_half)\n"
   ]
  },
  {
   "cell_type": "code",
   "execution_count": null,
   "metadata": {},
   "outputs": [],
   "source": []
  },
  {
   "cell_type": "code",
   "execution_count": null,
   "metadata": {},
   "outputs": [],
   "source": []
  },
  {
   "cell_type": "code",
   "execution_count": null,
   "metadata": {},
   "outputs": [],
   "source": []
  },
  {
   "cell_type": "code",
   "execution_count": null,
   "metadata": {},
   "outputs": [],
   "source": []
  }
 ],
 "metadata": {
  "anaconda-cloud": {},
  "kernelspec": {
   "display_name": "Python 3",
   "language": "python",
   "name": "python3"
  },
  "language_info": {
   "codemirror_mode": {
    "name": "ipython",
    "version": 3
   },
   "file_extension": ".py",
   "mimetype": "text/x-python",
   "name": "python",
   "nbconvert_exporter": "python",
   "pygments_lexer": "ipython3",
   "version": "3.7.6"
  }
 },
 "nbformat": 4,
 "nbformat_minor": 1
}
